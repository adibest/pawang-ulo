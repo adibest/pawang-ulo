{
 "metadata": {
  "language_info": {
   "codemirror_mode": {
    "name": "ipython",
    "version": 3
   },
   "file_extension": ".py",
   "mimetype": "text/x-python",
   "name": "python",
   "nbconvert_exporter": "python",
   "pygments_lexer": "ipython3",
   "version": "3.8.5-final"
  },
  "orig_nbformat": 2,
  "kernelspec": {
   "name": "python38564bit17a700af19b94fb49af9bc5b50343e7c",
   "display_name": "Python 3.8.5 64-bit",
   "language": "python"
  }
 },
 "nbformat": 4,
 "nbformat_minor": 2,
 "cells": [
  {
   "cell_type": "code",
   "execution_count": 5,
   "metadata": {},
   "outputs": [
    {
     "output_type": "stream",
     "name": "stdout",
     "text": [
      "True\n"
     ]
    }
   ],
   "source": [
    "def cekfile(nama_berkas):\n",
    "    ada = True\n",
    "    try:\n",
    "        f = open (nama_berkas)\n",
    "    except IOError:\n",
    "        ada = False\n",
    "    return ada\n",
    "\n",
    "a = cekfile(\"python.txt\")\n",
    "print(a)"
   ]
  },
  {
   "cell_type": "code",
   "execution_count": 4,
   "metadata": {},
   "outputs": [
    {
     "output_type": "stream",
     "name": "stdout",
     "text": [
      "Nama file: python.txt\n"
     ]
    }
   ],
   "source": [
    "f=open(\"python.txt\",\"r\")\n",
    "print(\"Nama file:\",f.name)\n",
    "f.close()"
   ]
  },
  {
   "cell_type": "code",
   "execution_count": 3,
   "metadata": {},
   "outputs": [
    {
     "output_type": "stream",
     "name": "stdout",
     "text": [
      "Nama file: python.txt\nMode Akses: r\n"
     ]
    }
   ],
   "source": [
    "def main():\n",
    "    f=open(\"python.txt\",\"r\")\n",
    "    print(\"Nama file:\",f.name)\n",
    "    print(\"Mode Akses:\",f.mode)\n",
    "if __name__ == \"__main__\":\n",
    "    main()"
   ]
  },
  {
   "cell_type": "code",
   "execution_count": 6,
   "metadata": {},
   "outputs": [
    {
     "output_type": "stream",
     "name": "stdout",
     "text": [
      "Nama file: python.txt\nMode Akses: r\nOperasi file dengan with\nAlhamdulillah, selesai!!\n"
     ]
    }
   ],
   "source": [
    "def main():\n",
    "    f=open(\"python.txt\",\"r\")\n",
    "    print(\"Nama file:\",f.name)\n",
    "    print(\"Mode Akses:\",f.mode)\n",
    "    print(f.read())\n",
    "if __name__ == \"__main__\":\n",
    "    main()"
   ]
  },
  {
   "cell_type": "code",
   "execution_count": 8,
   "metadata": {},
   "outputs": [
    {
     "output_type": "stream",
     "name": "stdout",
     "text": [
      "Nama file: python.txt\nMode Akses: r\nOperasi file dengan with\n\n"
     ]
    }
   ],
   "source": [
    "def main():\n",
    "    f=open(\"python.txt\",\"r\")\n",
    "    print(\"Nama file:\",f.name)\n",
    "    print(\"Mode Akses:\",f.mode)\n",
    "    print(f.readline())\n",
    "if __name__ == \"__main__\":\n",
    "    main()"
   ]
  },
  {
   "cell_type": "code",
   "execution_count": 9,
   "metadata": {},
   "outputs": [
    {
     "output_type": "stream",
     "name": "stdout",
     "text": [
      "Nama file: python.txt\nMode Akses: r\n['Operasi file dengan with\\n', 'Alhamdulillah, selesai!!']\n"
     ]
    }
   ],
   "source": [
    "def main():\n",
    "    f=open(\"python.txt\",\"r\")\n",
    "    print(\"Nama file:\",f.name)\n",
    "    print(\"Mode Akses:\",f.mode)\n",
    "    print(f.readlines())\n",
    "if __name__ == \"__main__\":\n",
    "    main()"
   ]
  },
  {
   "cell_type": "code",
   "execution_count": 11,
   "metadata": {},
   "outputs": [],
   "source": [
    "f=open(\"file.txt\",\"w\")\n",
    "f.write(\"Ini adalah kalimat pertama\\n\")\n",
    "f.write(\"Ini adalah kalimat kedua\\n\")\n",
    "f.write(\"Ini adalah kalimat ketiga\\n\")\n",
    "f.close()"
   ]
  },
  {
   "cell_type": "code",
   "execution_count": 12,
   "metadata": {},
   "outputs": [],
   "source": [
    "f=open(\"file.txt\",\"r+\")\n",
    "f.write(\"Ini adalah kalimat pertama\\n\")\n",
    "f.write(\"Ini adalah kalimat kedua\\n\")\n",
    "f.write(\"Ini adalah kalimat ketiga\\n\")\n",
    "f.close()"
   ]
  },
  {
   "cell_type": "code",
   "execution_count": 13,
   "metadata": {},
   "outputs": [],
   "source": [
    "f=open(\"file.txt\",\"a\")\n",
    "f.write(\"Ini adalah kalimat pertama\\n\")\n",
    "f.write(\"Ini adalah kalimat kedua\\n\")\n",
    "f.write(\"Ini adalah kalimat ketiga\\n\")\n",
    "f.close()"
   ]
  },
  {
   "cell_type": "code",
   "execution_count": 14,
   "metadata": {},
   "outputs": [],
   "source": [
    "f=open(\"file.txt\",\"a\")\n",
    "f.writelines([\"Tambah kalimat pertama\\n\",\"Tambah kalimat kedua\\n\",\"Tambah kalimat ketiga\\n\"])\n",
    "f.close()"
   ]
  },
  {
   "cell_type": "code",
   "execution_count": 15,
   "metadata": {},
   "outputs": [
    {
     "output_type": "stream",
     "name": "stdout",
     "text": [
      "Operasi file dengan with\nAlhamdulillah, selesai!!\n"
     ]
    }
   ],
   "source": [
    "with open(\"python.txt\",\"r\") as file:\n",
    "    file = file.read()\n",
    "    print (file)"
   ]
  },
  {
   "cell_type": "code",
   "execution_count": 16,
   "metadata": {},
   "outputs": [],
   "source": [
    "with open(\"python.txt\",\"w\") as file:\n",
    "    file.write(\"Operasi file dengan with\\n\")\n",
    "    file.write(\"Alhamdulillah, selesai!!\")"
   ]
  },
  {
   "cell_type": "code",
   "execution_count": 17,
   "metadata": {},
   "outputs": [
    {
     "output_type": "stream",
     "name": "stdout",
     "text": [
      "Binary Data: b'\\xff\\xfeH\\x00e\\x00l\\x00l\\x00o\\x00 \\x00P\\x00y\\x00t\\x00h\\x00o\\x00n\\x00'\nNormal Data: Hello Python\n"
     ]
    }
   ],
   "source": [
    "f = open(\"bfile.img\",\"wb+\")\n",
    "message = \"Hello Python\"\n",
    "encode = message.encode(\"utf-16\")\n",
    "f.write(encode)\n",
    "f.seek(0)\n",
    "bdata = f.read()\n",
    "print (\"Binary Data:\",bdata)\n",
    "decode = bdata.decode(\"utf-16\")\n",
    "print (\"Normal Data:\",decode)"
   ]
  },
  {
   "cell_type": "code",
   "execution_count": null,
   "metadata": {},
   "outputs": [],
   "source": []
  }
 ]
}