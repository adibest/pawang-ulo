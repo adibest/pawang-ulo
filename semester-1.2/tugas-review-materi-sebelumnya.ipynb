{
 "metadata": {
  "language_info": {
   "codemirror_mode": {
    "name": "ipython",
    "version": 3
   },
   "file_extension": ".py",
   "mimetype": "text/x-python",
   "name": "python",
   "nbconvert_exporter": "python",
   "pygments_lexer": "ipython3",
   "version": "3.8.5-final"
  },
  "orig_nbformat": 2,
  "kernelspec": {
   "name": "python38564bit17a700af19b94fb49af9bc5b50343e7c",
   "display_name": "Python 3.8.5 64-bit",
   "language": "python"
  }
 },
 "nbformat": 4,
 "nbformat_minor": 2,
 "cells": [
  {
   "cell_type": "code",
   "execution_count": 9,
   "metadata": {},
   "outputs": [
    {
     "output_type": "stream",
     "name": "stdout",
     "text": [
      "volume bangun ruang balok dengan panjang, lebar, tinggi 4 , 5 , 4 adalah 80 satuan volume\n"
     ]
    }
   ],
   "source": [
    "# Program Menghitung Luas Bangun Datar dan Volume Bangun Ruang\n",
    "# Version 1\n",
    "\n",
    "def luas_persegi_panjang(panjang,lebar):\n",
    "    luas_persegi_panjang = panjang * lebar\n",
    "    return luas_persegi_panjang\n",
    "\n",
    "def luas_lingkaran(jari_jari):\n",
    "    luas_lingkaran = 3.14 * jari_jari * jari_jari\n",
    "    return luas_lingkaran\n",
    "\n",
    "def volume_balok(panjang,lebar,tinggi):\n",
    "    volume_balok = panjang * lebar * tinggi\n",
    "    return volume_balok\n",
    "\n",
    "def volume_tabung(jari_jari,tinggi):\n",
    "    volume_tabung = 3.14 * jari_jari * jari_jari * tinggi\n",
    "    return volume_tabung\n",
    "\n",
    "yang_kamu_cari = input(\"Kamu mau hitung bangun datar apa bangun ruang: \")\n",
    "bangun_datar_apa = input(\"persegi panjang apa lingkaran: \")\n",
    "bangun_ruang_apa = input(\"balok apa tabung:\")\n",
    "a = int(input(\"masukkan panjang:\"))\n",
    "b = int(input(\"masukkan lebar:\"))\n",
    "c = int(input(\"masukkan jari-jari:\"))\n",
    "d = int(input(\"masukkan tinggi:\"))\n",
    "if (yang_kamu_cari == 'bangun datar'):\n",
    "    if (bangun_datar_apa == 'persegi panjang'):\n",
    "        print (\"luas bangun datar persegi panjang dengan panjang dan lebar\",a,\",\",b,\"adalah\",luas_persegi_panjang(a,b),\"satuan luas\")\n",
    "    elif (bangun_datar_apa == 'lingkaran'):\n",
    "        print (\"luas bangun datar lingkaran dengan jari-jari,\",c,\"adalah\",luas_lingkaran(c),\"satuan luas\")\n",
    "elif (yang_kamu_cari == 'bangun ruang'):\n",
    "    if (bangun_ruang_apa == 'balok'):\n",
    "        print (\"volume bangun ruang balok dengan panjang, lebar, tinggi\",a,\",\",b,\",\",d,\"adalah\",volume_balok(a,b,d),\"satuan volume\")\n",
    "    elif (bangun_ruang_apa == 'tabung'):\n",
    "        print (\"volume bangun ruang tabung dengan jari-jari dan tinggi\",c,\",\",d,\"adalah\",volume_tabung(c,d),\"satuan volume\")"
   ]
  },
  {
   "cell_type": "code",
   "execution_count": 13,
   "metadata": {},
   "outputs": [
    {
     "output_type": "stream",
     "name": "stdout",
     "text": [
      "volume bangun ruang tabung dengan jari-jari dan tinggi 27 , 80 adalah 183124.8 satuan volume\n"
     ]
    }
   ],
   "source": [
    "# Program Menghitung Luas Bangun Datar dan Volume Bangun Ruang\n",
    "# Version 2\n",
    "\n",
    "def luas_persegi_panjang(panjang,lebar):\n",
    "    luas_persegi_panjang = panjang * lebar\n",
    "    return luas_persegi_panjang\n",
    "\n",
    "def luas_lingkaran(jari_jari):\n",
    "    luas_lingkaran = 3.14 * jari_jari * jari_jari\n",
    "    return luas_lingkaran\n",
    "\n",
    "def volume_balok(panjang,lebar,tinggi):\n",
    "    volume_balok = panjang * lebar * tinggi\n",
    "    return volume_balok\n",
    "\n",
    "def volume_tabung(jari_jari,tinggi):\n",
    "    volume_tabung = 3.14 * jari_jari * jari_jari * tinggi\n",
    "    return volume_tabung\n",
    "\n",
    "yang_kamu_cari = input(\"Kamu mau hitung bangun datar apa bangun ruang: \")\n",
    "\n",
    "if (yang_kamu_cari == 'bangun datar'):\n",
    "    bangun_datar_apa = input(\"persegi panjang apa lingkaran: \")\n",
    "    if (bangun_datar_apa == 'persegi panjang'):\n",
    "        a = int(input(\"masukkan panjang:\"))\n",
    "        b = int(input(\"masukkan lebar:\"))\n",
    "        print (\"luas bangun datar persegi panjang dengan panjang dan lebar\",a,\",\",b,\"adalah\",luas_persegi_panjang(a,b),\"satuan luas\")\n",
    "    elif (bangun_datar_apa == 'lingkaran'):\n",
    "        c = int(input(\"masukkan jari-jari:\"))\n",
    "        print (\"luas bangun datar lingkaran dengan jari-jari,\",c,\"adalah\",luas_lingkaran(c),\"satuan luas\")\n",
    "elif (yang_kamu_cari == 'bangun ruang'):\n",
    "    bangun_ruang_apa = input(\"balok apa tabung:\")\n",
    "    if (bangun_ruang_apa == 'balok'):\n",
    "        a = int(input(\"masukkan panjang:\"))\n",
    "        b = int(input(\"masukkan lebar:\"))\n",
    "        d = int(input(\"masukkan tinggi:\"))\n",
    "        print (\"volume bangun ruang balok dengan panjang, lebar, tinggi\",a,\",\",b,\",\",d,\"adalah\",volume_balok(a,b,d),\"satuan volume\")\n",
    "    elif (bangun_ruang_apa == 'tabung'):\n",
    "        c = int(input(\"masukkan jari-jari:\"))\n",
    "        d = int(input(\"masukkan tinggi:\"))\n",
    "        print (\"volume bangun ruang tabung dengan jari-jari dan tinggi\",c,\",\",d,\"adalah\",volume_tabung(c,d),\"satuan volume\")"
   ]
  }
 ]
}