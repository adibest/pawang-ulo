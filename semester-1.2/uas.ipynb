{
 "metadata": {
  "language_info": {
   "codemirror_mode": {
    "name": "ipython",
    "version": 3
   },
   "file_extension": ".py",
   "mimetype": "text/x-python",
   "name": "python",
   "nbconvert_exporter": "python",
   "pygments_lexer": "ipython3",
   "version": "3.8.5-final"
  },
  "orig_nbformat": 2,
  "kernelspec": {
   "name": "python38564bit17a700af19b94fb49af9bc5b50343e7c",
   "display_name": "Python 3.8.5 64-bit",
   "language": "python"
  }
 },
 "nbformat": 4,
 "nbformat_minor": 2,
 "cells": [
  {
   "cell_type": "code",
   "execution_count": 2,
   "metadata": {},
   "outputs": [
    {
     "output_type": "stream",
     "name": "stdout",
     "text": [
      "80\n1500\n"
     ]
    }
   ],
   "source": [
    "# 1. Program Kalkulator\n",
    "\n",
    "def kali(a,b):\n",
    "    kali = a*b\n",
    "    return kali\n",
    "\n",
    "def tambah(a,b):\n",
    "    tambah = a+b\n",
    "    return tambah\n",
    "\n",
    "print(tambah(50,30))\n",
    "print(kali(50,30))"
   ]
  },
  {
   "cell_type": "code",
   "execution_count": 3,
   "metadata": {},
   "outputs": [
    {
     "output_type": "stream",
     "name": "stdout",
     "text": [
      "Ini adalah\nsebuah kalimat\nyang digunakan\nuntuk mengerjakan\nUAS MK Bu Lisa\n"
     ]
    }
   ],
   "source": [
    "# 3. Membaca file\n",
    "\n",
    "with open(\"file.txt\",\"r\") as file:\n",
    "    file = file.read()\n",
    "    print (file)"
   ]
  },
  {
   "cell_type": "code",
   "execution_count": 5,
   "metadata": {},
   "outputs": [
    {
     "output_type": "stream",
     "name": "stdout",
     "text": [
      "Luas persegi panjang dengan panjang 8 satuan dan lebar 5 satuan adalah  40  satuan luas\nVolume balok dengan panjang 8 satuan dan lebar 5 satuan dan tinggi 10 satuan adalah  400  satuan luas\n"
     ]
    }
   ],
   "source": [
    "# 4. Menghitung luas persegi panjang dan volume balok\n",
    "\n",
    "def luas_persegi_panjang(p,l):\n",
    "    luas = p*l\n",
    "    return luas\n",
    "\n",
    "def volume_balok(p,l,t):\n",
    "    volume = p*l*t\n",
    "    return volume\n",
    "\n",
    "print(\"Luas persegi panjang dengan panjang 8 satuan dan lebar 5 satuan adalah \",luas_persegi_panjang(8,5),\" satuan luas\")\n",
    "print(\"Volume balok dengan panjang 8 satuan dan lebar 5 satuan dan tinggi 10 satuan adalah \",volume_balok(8,5,10),\" satuan luas\")"
   ]
  },
  {
   "cell_type": "code",
   "execution_count": 11,
   "metadata": {},
   "outputs": [],
   "source": [
    "from tkinter import *\n",
    "derajat = Tk()\n",
    "\n",
    "# Membuat widget label header\n",
    "Header = Label(derajat, text=\"Masukkan derajat suhu dalam Celcius\")\n",
    "# Memasukan label header kedalam Grid\n",
    "Header.grid(columnspan=2)\n",
    "# Membuat widget label serta entry untuk username dan password\n",
    "label1 = Label(derajat,text=\"celcius\")\n",
    "Entry1 = Entry(derajat,method=\"GET\",action=\"\",name=\"t\")\n",
    "# Memasukan widget label dan entry dari username dan password ke dalam grid\n",
    "label1.grid(row=2, column=0,sticky=E)\n",
    "Entry1.grid(row=2, column=1)\n",
    "# Membuat widget button\n",
    "button = Button(derajat,text=\"CONVERT\")\n",
    "# Memasukan widget button ke dalam grid\n",
    "button.grid(row=5, columnspan=2)\n",
    "print(get(t))\n",
    "# Menjalankan program\n",
    "derajat.mainloop()\n"
   ]
  },
  {
   "cell_type": "code",
   "execution_count": null,
   "metadata": {},
   "outputs": [],
   "source": []
  }
 ]
}