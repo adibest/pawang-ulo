{
 "metadata": {
  "language_info": {
   "codemirror_mode": {
    "name": "ipython",
    "version": 3
   },
   "file_extension": ".py",
   "mimetype": "text/x-python",
   "name": "python",
   "nbconvert_exporter": "python",
   "pygments_lexer": "ipython3",
   "version": "3.8.5-final"
  },
  "orig_nbformat": 2,
  "kernelspec": {
   "name": "python38564bit17a700af19b94fb49af9bc5b50343e7c",
   "display_name": "Python 3.8.5 64-bit",
   "language": "python"
  }
 },
 "nbformat": 4,
 "nbformat_minor": 2,
 "cells": [
  {
   "cell_type": "code",
   "execution_count": null,
   "metadata": {},
   "outputs": [],
   "source": [
    "Program Kalkulasi Kebutuhan Membangun Tembok Dengan Bata Merah\n",
    "Pada program kali ini, akan ditunjukkan seberapa banyak bahan yang dibutuhkan\n",
    "untuk membangun tembok seluas sekian meter persegi.\n",
    "Bahan-bahan yang digunakan dalam tembok kali ini adalah \n",
    "- bata Merah\n",
    "- pasir\n",
    "- semen\n",
    "Kami asumsikan bahwa dalam setiap satu meter persegi tembok dibutuhkan\n",
    "- 80 bata Merah\n",
    "- 50 desimeter kubik pasir\n",
    "- dan 10 kilogram semen"
   ]
  },
  {
   "cell_type": "code",
   "execution_count": 23,
   "metadata": {},
   "outputs": [
    {
     "output_type": "stream",
     "name": "stdout",
     "text": [
      "<function kebutuhan_bata at 0x7fc5e7d46c10>\n<function kebutuhan_pasir at 0x7fc5fc31af70>\n<function kebutuhan_semen at 0x7fc5e7a67ca0>\n"
     ]
    }
   ],
   "source": [
    "bata = 80\n",
    "pasir = 50\n",
    "semen = 10\n",
    "\n",
    "def kebutuhan_material(pengali,permeter):\n",
    "    kebutuhan_material = pengali*permeter\n",
    "    return kebutuhan_material\n",
    "\n",
    "luas_tembok = int(input(\"masukkan luas tembok yang akan dibangun dalam meter persegi\"))\n",
    "stok_bata = int(input(\"jumlah bata tersedia\"))\n",
    "stok_pasir = int(input(\"jumlah pasir tersedia\"))\n",
    "stok_semen = int(input(\"jumlah semen tersedia\"))\n",
    "\n",
    "def kebutuhan_bata(stok_bata):\n",
    "    if stok_bata == kebutuhan_material(luas_tembok,bata):\n",
    "        print('stok bata cukup')\n",
    "    elif stok_bata > kebutuhan_material(luas_tembok,bata):\n",
    "        print('stok bata berlebih',stok_bata - kebutuhan_material(luas_tembok,bata),'buah')\n",
    "    elif stok_bata < kebutuhan_material(luas_tembok,bata):\n",
    "        print('stok bata kurang',kebutuhan_material(luas_tembok,bata) - stok_bata,'buah')\n",
    "\n",
    "def kebutuhan_pasir(stok_pasir):\n",
    "    if stok_pasir == kebutuhan_material(luas_tembok,pasir):\n",
    "        print('stok pasir cukup')\n",
    "    elif stok_pasir > kebutuhan_material(luas_tembok,pasir):\n",
    "        print('stok pasir berlebih',stok_pasir - kebutuhan_material(luas_tembok,pasir),'buah')\n",
    "    elif stok_pasir < kebutuhan_material(luas_tembok,pasir):\n",
    "        print('stok pasir kurang',kebutuhan_material(luas_tembok,pasir) - stok_pasir,'buah')\n",
    "\n",
    "def kebutuhan_semen(stok_semen):\n",
    "    if stok_semen == kebutuhan_material(luas_tembok,semen):\n",
    "        print('stok semen cukup')\n",
    "    elif stok_semen > kebutuhan_material(luas_tembok,semen):\n",
    "        print('stok semen berlebih',stok_semen - kebutuhan_material(luas_tembok,semen),'buah')\n",
    "    elif stok_semen < kebutuhan_material(luas_tembok,semen):\n",
    "        print('stok semen kurang',kebutuhan_material(luas_tembok,semen) - stok_semen,'buah')\n",
    "\n",
    "kalkulasi = [kebutuhan_bata,kebutuhan_pasir,kebutuhan_semen]\n",
    "for p in kalkulasi:\n",
    "    print(p)"
   ]
  }
 ]
}