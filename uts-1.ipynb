{
 "metadata": {
  "language_info": {
   "codemirror_mode": {
    "name": "ipython",
    "version": 3
   },
   "file_extension": ".py",
   "mimetype": "text/x-python",
   "name": "python",
   "nbconvert_exporter": "python",
   "pygments_lexer": "ipython3",
   "version": "3.8.5-final"
  },
  "orig_nbformat": 2,
  "kernelspec": {
   "name": "python3",
   "display_name": "Python 3",
   "language": "python"
  }
 },
 "nbformat": 4,
 "nbformat_minor": 2,
 "cells": [
  {
   "cell_type": "code",
   "execution_count": 17,
   "metadata": {},
   "outputs": [
    {
     "output_type": "stream",
     "name": "stdout",
     "text": [
      "i\nn\nf\no\nr\nm\na\nt\ni\nk\na\n"
     ]
    }
   ],
   "source": [
    "x = 'Saya Mahasiswa informatika'\n",
    "y = 'ITS PKU Muhammadiyah'\n",
    "\n",
    "# print (x[5:14]+' '+y[:7])\n",
    "for i in (x[15:]):\n",
    "    print (i)"
   ]
  },
  {
   "cell_type": "code",
   "execution_count": 19,
   "metadata": {},
   "outputs": [
    {
     "output_type": "stream",
     "name": "stdout",
     "text": [
      "jumlah = 15 rata-rata = 5.0\n"
     ]
    }
   ],
   "source": [
    "x = int(input(\"masukkan angka 1:\"))\n",
    "y = int(input(\"masukkan angka 2:\"))\n",
    "z = int(input(\"masukkan angka 3:\"))\n",
    "a = x+y+z\n",
    "b = (x+y+z)/3\n",
    "\n",
    "print(\"jumlah =\",a,\"rata-rata =\",b)"
   ]
  },
  {
   "cell_type": "code",
   "execution_count": 23,
   "metadata": {},
   "outputs": [
    {
     "output_type": "stream",
     "name": "stdout",
     "text": [
      "Dibyo Susanto lahir di Indramayu pada 26 Muharram 1421. Sekarang punya tinggi 170cm dan berat 60kg.\n"
     ]
    }
   ],
   "source": [
    "nama = 'Dibyo Susanto'\n",
    "temlah = 'Indramayu'\n",
    "tgl = '26 Muharram 1421'\n",
    "tinggi = '170cm'\n",
    "berat = '60kg'\n",
    "biodata = nama+' lahir di '+temlah+' pada '+tgl+'. Sekarang punya tinggi '+tinggi+' dan berat '+berat+'.'\n",
    "print(biodata)"
   ]
  },
  {
   "cell_type": "code",
   "execution_count": 36,
   "metadata": {},
   "outputs": [
    {
     "output_type": "error",
     "ename": "AttributeError",
     "evalue": "'int' object has no attribute 'b'",
     "traceback": [
      "\u001b[0;31m---------------------------------------------------------------------------\u001b[0m",
      "\u001b[0;31mAttributeError\u001b[0m                            Traceback (most recent call last)",
      "\u001b[0;32m<ipython-input-36-4da8878d4bd2>\u001b[0m in \u001b[0;36m<module>\u001b[0;34m\u001b[0m\n\u001b[1;32m      7\u001b[0m     \u001b[0;32mreturn\u001b[0m \u001b[0mkal\u001b[0m\u001b[0;34m\u001b[0m\u001b[0;34m\u001b[0m\u001b[0m\n\u001b[1;32m      8\u001b[0m \u001b[0;34m\u001b[0m\u001b[0m\n\u001b[0;32m----> 9\u001b[0;31m \u001b[0mk\u001b[0m \u001b[0;34m=\u001b[0m \u001b[0mkalkulasi\u001b[0m\u001b[0;34m(\u001b[0m\u001b[0mx\u001b[0m\u001b[0;34m,\u001b[0m\u001b[0my\u001b[0m\u001b[0;34m,\u001b[0m\u001b[0mz\u001b[0m\u001b[0;34m)\u001b[0m\u001b[0;34m\u001b[0m\u001b[0;34m\u001b[0m\u001b[0m\n\u001b[0m\u001b[1;32m     10\u001b[0m \u001b[0mprint\u001b[0m\u001b[0;34m(\u001b[0m\u001b[0mk\u001b[0m\u001b[0;34m)\u001b[0m\u001b[0;34m\u001b[0m\u001b[0;34m\u001b[0m\u001b[0m\n",
      "\u001b[0;32m<ipython-input-36-4da8878d4bd2>\u001b[0m in \u001b[0;36mkalkulasi\u001b[0;34m(a, b, c)\u001b[0m\n\u001b[1;32m      4\u001b[0m \u001b[0;34m\u001b[0m\u001b[0m\n\u001b[1;32m      5\u001b[0m \u001b[0;32mdef\u001b[0m \u001b[0mkalkulasi\u001b[0m\u001b[0;34m(\u001b[0m\u001b[0ma\u001b[0m\u001b[0;34m,\u001b[0m\u001b[0mb\u001b[0m\u001b[0;34m,\u001b[0m\u001b[0mc\u001b[0m\u001b[0;34m)\u001b[0m\u001b[0;34m:\u001b[0m\u001b[0;34m\u001b[0m\u001b[0;34m\u001b[0m\u001b[0m\n\u001b[0;32m----> 6\u001b[0;31m     \u001b[0mkal\u001b[0m \u001b[0;34m=\u001b[0m \u001b[0ma\u001b[0m\u001b[0;34m.\u001b[0m\u001b[0mb\u001b[0m\u001b[0;34m.\u001b[0m\u001b[0mc\u001b[0m\u001b[0;34m\u001b[0m\u001b[0;34m\u001b[0m\u001b[0m\n\u001b[0m\u001b[1;32m      7\u001b[0m     \u001b[0;32mreturn\u001b[0m \u001b[0mkal\u001b[0m\u001b[0;34m\u001b[0m\u001b[0;34m\u001b[0m\u001b[0m\n\u001b[1;32m      8\u001b[0m \u001b[0;34m\u001b[0m\u001b[0m\n",
      "\u001b[0;31mAttributeError\u001b[0m: 'int' object has no attribute 'b'"
     ]
    }
   ],
   "source": [
    "x = int(input(\"masukkan angka 1:\"))\n",
    "y = input(\"masukkan angka operator, + - / *:\")\n",
    "z = int(input(\"masukkan angka 2:\"))\n",
    "\n",
    "def kalkulasi(a,b,c):\n",
    "    kal = a b c\n",
    "    return kal\n",
    "\n",
    "k = kalkulasi(x,y,z)\n",
    "print(k)"
   ]
  },
  {
   "cell_type": "code",
   "execution_count": 34,
   "metadata": {},
   "outputs": [
    {
     "output_type": "stream",
     "name": "stdout",
     "text": [
      "2 adalah genap\n3 adalah ganjil\n4 adalah genap\n5 adalah ganjil\n"
     ]
    }
   ],
   "source": [
    "x = int(input(\"masukkan angka 1:\"))\n",
    "z = int(input(\"masukkan angka 2:\"))\n",
    "\n",
    "for i in range(x,z):\n",
    "    if i%2 > 0:\n",
    "        print (i,'adalah ganjil')\n",
    "    else:\n",
    "        print (i,'adalah genap')\n",
    "        "
   ]
  }
 ]
}