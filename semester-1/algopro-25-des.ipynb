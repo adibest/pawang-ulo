{
 "metadata": {
  "language_info": {
   "codemirror_mode": {
    "name": "ipython",
    "version": 3
   },
   "file_extension": ".py",
   "mimetype": "text/x-python",
   "name": "python",
   "nbconvert_exporter": "python",
   "pygments_lexer": "ipython3",
   "version": "3.8.5-final"
  },
  "orig_nbformat": 2,
  "kernelspec": {
   "name": "python3",
   "display_name": "Python 3",
   "language": "python"
  }
 },
 "nbformat": 4,
 "nbformat_minor": 2,
 "cells": [
  {
   "cell_type": "code",
   "execution_count": 2,
   "metadata": {},
   "outputs": [
    {
     "output_type": "stream",
     "name": "stdout",
     "text": [
      "Nama = Dibyo Susanto\nNIM = 20\nProgram Studi = informatika\n"
     ]
    }
   ],
   "source": [
    "nama = input(\"Masukkan nama:\")\n",
    "nim = input(\"Masukkan nim:\")\n",
    "prodi = 'informatika'\n",
    "print (\"Nama =\",nama)\n",
    "print (\"NIM =\",nim)\n",
    "print (\"Program Studi =\",prodi)"
   ]
  },
  {
   "cell_type": "code",
   "execution_count": 8,
   "metadata": {},
   "outputs": [
    {
     "output_type": "stream",
     "name": "stdout",
     "text": [
      "Apakah a > b ? False\nApakah a < b ? True\n"
     ]
    }
   ],
   "source": [
    "x = input(\"Masukkan nilai ke-1: \")\n",
    "y = input(\"Masukkan nilai ke-2: \")\n",
    "\n",
    "z = x > y\n",
    "print (\"Apakah\",x,\">\",y,\"?\",z)\n",
    "\n",
    "z = x < y\n",
    "print (\"Apakah\",x,\"<\",y,\"?\",z)"
   ]
  },
  {
   "cell_type": "code",
   "execution_count": 2,
   "metadata": {},
   "outputs": [
    {
     "output_type": "stream",
     "name": "stdout",
     "text": [
      "panjang= 5\nlebar= 8\nLuas Persegi Panjang adalah 40\n"
     ]
    }
   ],
   "source": [
    "panjang = 5\n",
    "lebar = 8\n",
    "luas = panjang*lebar\n",
    "\n",
    "print (\"panjang=\",panjang)\n",
    "print (\"lebar=\",lebar)\n",
    "print (\"Luas Persegi Panjang adalah\",luas)"
   ]
  },
  {
   "cell_type": "code",
   "execution_count": 4,
   "metadata": {},
   "outputs": [
    {
     "output_type": "stream",
     "name": "stdout",
     "text": [
      "V = 40 km/jam\nT = 2 jam\nS = VxT = 80\nJadi Jaraknya adalah:  80 km\n"
     ]
    }
   ],
   "source": [
    "v=int(input('masukkan kecepatan(km/jam):'))\n",
    "t=int(input('masukkan waktu (jam):'))\n",
    "S= v * t\n",
    "print ('V =',v,'km/jam')\n",
    "print ('T =',t,'jam')\n",
    "print ('S = VxT = %d'%S)\n",
    "print ('Jadi Jaraknya adalah: ',S,'km')"
   ]
  },
  {
   "cell_type": "code",
   "execution_count": 6,
   "metadata": {},
   "outputs": [
    {
     "output_type": "stream",
     "name": "stdout",
     "text": [
      "Mahasiswa\nSaya Mahasiswa belajar python\n"
     ]
    }
   ],
   "source": [
    "A ='Saya Mahasiswa Informatika'\n",
    "B = \"Saya belajar python\"\n",
    "C= A[5:14]\n",
    "D= A[:15]+B[5:]\n",
    "print (C)\n",
    "print (D)"
   ]
  }
 ]
}