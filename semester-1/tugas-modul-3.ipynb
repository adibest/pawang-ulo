{
 "metadata": {
  "language_info": {
   "codemirror_mode": {
    "name": "ipython",
    "version": 3
   },
   "file_extension": ".py",
   "mimetype": "text/x-python",
   "name": "python",
   "nbconvert_exporter": "python",
   "pygments_lexer": "ipython3",
   "version": "3.8.5-final"
  },
  "orig_nbformat": 2,
  "kernelspec": {
   "name": "python3",
   "display_name": "Python 3",
   "language": "python"
  }
 },
 "nbformat": 4,
 "nbformat_minor": 2,
 "cells": [
  {
   "cell_type": "code",
   "execution_count": 6,
   "metadata": {},
   "outputs": [
    {
     "output_type": "stream",
     "name": "stdout",
     "text": [
      "hasil 7 + 5 = 12\nhasil 7 - 5 = 2\nhasil 7 * 5 = 35\nhasil 7 / 5 = 1.4\nhasil 7 % 5 = 2\nhasil 7 ** 5 = 16807\n"
     ]
    }
   ],
   "source": [
    "# Dibyo Susanto / 2020070020\n",
    "# Tugas Modul 3\n",
    "\n",
    "# Kegiatan 1: Operator Aritmatika\n",
    "x = int(input(\"Masukkan nilai ke-1: \"))\n",
    "y = int(input(\"Masukkan nilai ke-2: \"))\n",
    "\n",
    "# Menggunakan operator penjumlahan\n",
    "z = x + y\n",
    "print(\"hasil\",x,\"+\",y,\"=\", z)\n",
    "\n",
    "# Operator Pengurangan\n",
    "z = x - y\n",
    "print(\"hasil\",x,\"-\",y,\"=\", z)\n",
    "\n",
    "# Operator Perkalian\n",
    "z = x * y\n",
    "print(\"hasil\",x,\"*\",y,\"=\", z)\n",
    "\n",
    "# Operator Pembagian\n",
    "z = x / y\n",
    "print(\"hasil\",x,\"/\",y,\"=\", z)\n",
    "\n",
    "# Operator Sisa Bagi\n",
    "z = x % y\n",
    "print(\"hasil\",x,\"%\",y,\"=\", z)\n",
    "\n",
    "# Operator Pangkat\n",
    "z = x ** y\n",
    "print(\"hasil\",x,\"**\",y,\"=\", z)"
   ]
  },
  {
   "cell_type": "code",
   "execution_count": 8,
   "metadata": {},
   "outputs": [
    {
     "output_type": "stream",
     "name": "stdout",
     "text": [
      "Apakah 50 > 100 ? False\nApakah 50 < 100 ? True\nApakah 50 == 100 ? False\nApakah 50 != 100 ? True\nApakah 50 >= 100 ? False\nApakah 50 <= 100 ? True\n"
     ]
    }
   ],
   "source": [
    "# Kegiatan 2: Operator Pembanding\n",
    "x = int(input(\"Masukkan nilai ke-1: \"))\n",
    "y = int(input(\"Masukkan nilai ke-2: \"))\n",
    "\n",
    "# Menggunakan operator lebih besar\n",
    "z = x > y\n",
    "print(\"Apakah\",x,\">\",y,\"?\", z)\n",
    "\n",
    "# Menggunakan operator lebih kecil\n",
    "z = x < y\n",
    "print(\"Apakah\",x,\"<\",y,\"?\", z)\n",
    "\n",
    "# Menggunakan operator sama dengan\n",
    "z = x == y\n",
    "print(\"Apakah\",x,\"==\",y,\"?\", z)\n",
    "\n",
    "# Menggunakan operator tidak sama dengan\n",
    "z = x != y\n",
    "print(\"Apakah\",x,\"!=\",y,\"?\", z)\n",
    "\n",
    "# Menggunakan operator lebih besar sama dengan\n",
    "z = x >= y\n",
    "print(\"Apakah\",x,\">=\",y,\"?\", z)\n",
    "\n",
    "# Menggunakan operator lebih kecil sama dengan\n",
    "z = x <= y\n",
    "print(\"Apakah\",x,\"<=\",y,\"?\", z)"
   ]
  },
  {
   "cell_type": "code",
   "execution_count": null,
   "metadata": {},
   "outputs": [],
   "source": [
    "# Analisa Kegiatan 1 dan 2\n",
    "Operator aritmatika dan pembandig terkhusus digunakan untuk tipe data integer.\n",
    "Untuk tipe data string, beberapa operator tidak bisa menampilkan hasil\n",
    "alias error.\n",
    "\n",
    "Dalam hal ini method input saya sisispkan ke dalam method int \n",
    "agar tipe datanya integer, bukan string. Karena bawaan method\n",
    "input adalah string."
   ]
  },
  {
   "cell_type": "code",
   "execution_count": 9,
   "metadata": {},
   "outputs": [
    {
     "output_type": "stream",
     "name": "stdout",
     "text": [
      "hasil logika 20 and 60 = 60\nhasil logika 20 or 60 = 20\nhasil logika not 20 = False\nhasil logika not 20 = False\n"
     ]
    }
   ],
   "source": [
    "# Kegiatan 3: Operator Logika\n",
    "x = int(input(\"Masukkan nilai ke-1: \"))\n",
    "y = int(input(\"Masukkan nilai ke-2: \"))\n",
    "\n",
    "# Menggunakan operator and\n",
    "z = x and y\n",
    "print(\"hasil logika\",x,\"and\",y,\"=\",z)\n",
    "\n",
    "# Operator or\n",
    "z = x or y\n",
    "print(\"hasil logika\",x,\"or\",y,\"=\",z)\n",
    "\n",
    "# Operator not\n",
    "z = not x\n",
    "print(\"hasil logika not\",x,\"=\", z)\n",
    "\n",
    "# Operator not y\n",
    "z = not y\n",
    "print (\"hasil logika not\",x,\"=\", z)"
   ]
  },
  {
   "cell_type": "code",
   "execution_count": null,
   "metadata": {},
   "outputs": [],
   "source": [
    "# Analisa Kegiatan 3\n",
    "# Adakah kesalahan sintaks\n",
    "Ada. \n",
    "Pada metode print banyak dari code yang tidak di masukkan dalam tanda kurung ()\n",
    "Sehingga inti pemrosesan pun bingung, mengembalikan informasi error\n",
    "Untuk memperbaikinya tinggal menambahkan tanda kurung\n",
    "\n",
    "# \n",
    "Operator logika menghasilkan nilai true dan false. Penggunaan sebenarnya bukan\n",
    "untuk seperti yang tertera pada code di atas. Sehingga hasil yang keluar beberapa\n",
    "tidak sesuai yang diharapkan (true / false)"
   ]
  },
  {
   "cell_type": "code",
   "execution_count": 11,
   "metadata": {},
   "outputs": [
    {
     "output_type": "error",
     "ename": "SyntaxError",
     "evalue": "Missing parentheses in call to 'print'. Did you mean print(\"hasil logika\",x,\"and\",y,\"=\",z)? (<ipython-input-11-3afb8a1a0c09>, line 5)",
     "traceback": [
      "\u001b[0;36m  File \u001b[0;32m\"<ipython-input-11-3afb8a1a0c09>\"\u001b[0;36m, line \u001b[0;32m5\u001b[0m\n\u001b[0;31m    print \"hasil logika\",x,\"and\",y,\"=\",z\u001b[0m\n\u001b[0m          ^\u001b[0m\n\u001b[0;31mSyntaxError\u001b[0m\u001b[0;31m:\u001b[0m Missing parentheses in call to 'print'. Did you mean print(\"hasil logika\",x,\"and\",y,\"=\",z)?\n"
     ]
    }
   ],
   "source": [
    "# Menggunakan operator and\n",
    "x = 2\n",
    "y = 3\n",
    "z = x and y\n",
    "print \"hasil logika\",x,\"and\",y,\"=\",z\n",
    "# sintaks kurang tepat"
   ]
  },
  {
   "cell_type": "code",
   "execution_count": 12,
   "metadata": {},
   "outputs": [
    {
     "output_type": "stream",
     "name": "stdout",
     "text": [
      "hasil logika 2 and 3 = 3\n"
     ]
    }
   ],
   "source": [
    "# Menggunakan operator and\n",
    "x = 2\n",
    "y = 3\n",
    "z = x and y\n",
    "print(\"hasil logika\",x,\"and\",y,\"=\",z)\n",
    "# sintaks benar"
   ]
  },
  {
   "cell_type": "code",
   "execution_count": 13,
   "metadata": {},
   "outputs": [
    {
     "output_type": "stream",
     "name": "stdout",
     "text": [
      "Luas lingkaran dengan jari-jari 7 adalah 153.93804002589985\n"
     ]
    }
   ],
   "source": [
    "# D. Tugas\n",
    "# FlowChart saya sertakan dalam file terpisah . . .\n",
    "# Luas Lingkaran\n",
    "\n",
    "import math\n",
    "r = int(input(\"Masukkan jari-jari\"))\n",
    "L = math.pi*r**2\n",
    "\n",
    "print(\"Luas lingkaran dengan jari-jari\",r,\"satuan adalah\",L,\"satuan luas\")"
   ]
  },
  {
   "cell_type": "code",
   "execution_count": 17,
   "metadata": {},
   "outputs": [
    {
     "output_type": "stream",
     "name": "stdout",
     "text": [
      "Volume kubus dengan panjang sisi 30 satuan adalah 27000 satuan volume\n"
     ]
    }
   ],
   "source": [
    "# Volume Kubus\n",
    "\n",
    "s = int(input(\"Masukkan panjang sisi\"))\n",
    "V = s**3\n",
    "\n",
    "print(\"Volume kubus dengan panjang sisi\",s,\"satuan adalah\",V,\"satuan volume\")"
   ]
  },
  {
   "cell_type": "code",
   "execution_count": 18,
   "metadata": {},
   "outputs": [
    {
     "output_type": "stream",
     "name": "stdout",
     "text": [
      "Volume tabung dengan jari-jari dasar tabung 12 satuan dan tinggi tabung 10 satuan adalah 4523.893421169302 satuan volume\n"
     ]
    }
   ],
   "source": [
    "# Volume Tabung\n",
    "\n",
    "import math\n",
    "r = int(input(\"Masukkan jari-jari\"))\n",
    "t = int(input(\"Masukkan tinggi tabung\"))\n",
    "V = math.pi*r**2*t\n",
    "\n",
    "print(\"Volume tabung dengan jari-jari dasar tabung\",r,\"satuan dan tinggi tabung\",t,\"satuan adalah\",V,\"satuan volume\")"
   ]
  },
  {
   "cell_type": "code",
   "execution_count": null,
   "metadata": {},
   "outputs": [],
   "source": []
  }
 ]
}