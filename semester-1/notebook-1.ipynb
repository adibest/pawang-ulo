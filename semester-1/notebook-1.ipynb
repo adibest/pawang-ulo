{
 "metadata": {
  "language_info": {
   "codemirror_mode": {
    "name": "ipython",
    "version": 3
   },
   "file_extension": ".py",
   "mimetype": "text/x-python",
   "name": "python",
   "nbconvert_exporter": "python",
   "pygments_lexer": "ipython3",
   "version": "3.8.5-final"
  },
  "orig_nbformat": 2,
  "kernelspec": {
   "name": "python3",
   "display_name": "Python 3.8.5 64-bit",
   "metadata": {
    "interpreter": {
     "hash": "31f2aee4e71d21fbe5cf8b01ff0e069b9275f58929596ceb00d14d90e3e16cd6"
    }
   }
  }
 },
 "nbformat": 4,
 "nbformat_minor": 2,
 "cells": [
  {
   "source": [
    "# Dibyo Susanto / 2020070020\n",
    "# Latihan 1\n",
    "[2,5 ,4.7, False]\n",
    "myList = [2,5 ,4.7, False]\n",
    "myList"
   ],
   "cell_type": "code",
   "metadata": {},
   "execution_count": 1,
   "outputs": [
    {
     "output_type": "execute_result",
     "data": {
      "text/plain": [
       "[2, 5, 4.7, False]"
      ]
     },
     "metadata": {},
     "execution_count": 1
    }
   ]
  },
  {
   "cell_type": "code",
   "execution_count": 2,
   "metadata": {},
   "outputs": [
    {
     "output_type": "stream",
     "name": "stdout",
     "text": [
      "[[1, 2, 3, 4], [1, 2, 3, 4], [1, 2, 3, 4]]\n[[1, 2, 45, 4], [1, 2, 45, 4], [1, 2, 45, 4]]\n"
     ]
    }
   ],
   "source": [
    "# Latihan 2\n",
    "myList = [1,2,3,4]\n",
    "A = [myList]*3\n",
    "print (A)\n",
    "\n",
    "myList[2]=45\n",
    "print(A)"
   ]
  },
  {
   "cell_type": "code",
   "execution_count": 3,
   "metadata": {},
   "outputs": [
    {
     "output_type": "stream",
     "name": "stdout",
     "text": [
      "[1400, 5, True, 7.3, False]\n[1400, 5, 4.5, True, 7.3, False]\nFalse\n[1400, 5, 4.5, True, 7.3]\n5\n[1400, 4.5, True, 7.3]\n[1400, 4.5, 7.3]\n[4.5, 7.3, 1400]\n[1400, 7.3, 4.5]\n1\n2\n[1400, 7.3]\n[7.3]\n"
     ]
    }
   ],
   "source": [
    "# Latihan 3\n",
    "myList = [1400, 5, True, 7.3]\n",
    "myList.append(False)\n",
    "print(myList)\n",
    "\n",
    "myList.insert(2,4.5)\n",
    "print(myList)\n",
    "\n",
    "print(myList.pop())\n",
    "print(myList)\n",
    "\n",
    "print(myList.pop(1))\n",
    "print(myList)\n",
    "\n",
    "myList.pop(2)\n",
    "print(myList)\n",
    "\n",
    "myList.sort()\n",
    "print(myList)\n",
    "\n",
    "myList.reverse()\n",
    "print(myList)\n",
    "\n",
    "print(myList.count(7.3))\n",
    "print(myList.index(4.5))\n",
    "myList.remove(4.5)\n",
    "print(myList)\n",
    "\n",
    "del myList[0]\n",
    "print(myList)"
   ]
  },
  {
   "cell_type": "code",
   "execution_count": 4,
   "metadata": {},
   "outputs": [
    {
     "output_type": "execute_result",
     "data": {
      "text/plain": [
       "5"
      ]
     },
     "metadata": {},
     "execution_count": 4
    }
   ],
   "source": [
    "# Latihan 4\n",
    "\"Dibyo\"\n",
    "myName=\"Dibyo\"\n",
    "myName[3]\n",
    "myName*2\n",
    "len(myName)"
   ]
  },
  {
   "cell_type": "code",
   "execution_count": 5,
   "metadata": {},
   "outputs": [
    {
     "output_type": "execute_result",
     "data": {
      "text/plain": [
       "['Dibyo']"
      ]
     },
     "metadata": {},
     "execution_count": 5
    }
   ],
   "source": [
    "# Latihan 5\n",
    "myName\n",
    "myName.upper()\n",
    "myName.center(10)\n",
    "myName.find('v')\n",
    "myName.split('v')"
   ]
  },
  {
   "cell_type": "code",
   "execution_count": 6,
   "metadata": {},
   "outputs": [
    {
     "output_type": "error",
     "ename": "TypeError",
     "evalue": "'str' object does not support item assignment",
     "traceback": [
      "\u001b[0;31m---------------------------------------------------------------------------\u001b[0m",
      "\u001b[0;31mTypeError\u001b[0m                                 Traceback (most recent call last)",
      "\u001b[0;32m<ipython-input-6-c3663576020e>\u001b[0m in \u001b[0;36m<module>\u001b[0;34m\u001b[0m\n\u001b[1;32m      3\u001b[0m \u001b[0mmyList\u001b[0m\u001b[0;34m\u001b[0m\u001b[0;34m\u001b[0m\u001b[0m\n\u001b[1;32m      4\u001b[0m \u001b[0mmyName\u001b[0m\u001b[0;34m\u001b[0m\u001b[0;34m\u001b[0m\u001b[0m\n\u001b[0;32m----> 5\u001b[0;31m \u001b[0mmyName\u001b[0m\u001b[0;34m[\u001b[0m\u001b[0;36m0\u001b[0m\u001b[0;34m]\u001b[0m\u001b[0;34m=\u001b[0m\u001b[0;34m'X'\u001b[0m\u001b[0;34m\u001b[0m\u001b[0;34m\u001b[0m\u001b[0m\n\u001b[0m",
      "\u001b[0;31mTypeError\u001b[0m: 'str' object does not support item assignment"
     ]
    }
   ],
   "source": [
    "# Latihan 6\n",
    "myList\n",
    "myList[0]=2**10\n",
    "myList\n",
    "myName\n",
    "myName[0]='X'"
   ]
  },
  {
   "cell_type": "code",
   "execution_count": 7,
   "metadata": {},
   "outputs": [
    {
     "output_type": "execute_result",
     "data": {
      "text/plain": [
       "(2, True)"
      ]
     },
     "metadata": {},
     "execution_count": 7
    }
   ],
   "source": [
    "# Latihan 7\n",
    "myTuple=(2,True,4.96)\n",
    "myTuple\n",
    "len(myTuple)\n",
    "myTuple[0]\n",
    "myTuple*3\n",
    "myTuple[0:2]"
   ]
  },
  {
   "cell_type": "code",
   "execution_count": 8,
   "metadata": {},
   "outputs": [
    {
     "output_type": "execute_result",
     "data": {
      "text/plain": [
       "set()"
      ]
     },
     "metadata": {},
     "execution_count": 8
    }
   ],
   "source": [
    "# Latihan 8\n",
    "{3,6,\"cat\",4.5,False}\n",
    "mySet={3,6,\"cat\",4.5,False}\n",
    "mySet\n",
    "\n",
    "# Latihan 9\n",
    "mySet\n",
    "len(mySet)\n",
    "False in mySet\n",
    "\"dog\" in mySet\n",
    "mySet\n",
    "\n",
    "yourSet={99,3,100}\n",
    "mySet.union(yourSet)\n",
    "mySet|yourSet\n",
    "\n",
    "mySet.intersection(yourSet)\n",
    "mySet&yourSet\n",
    "\n",
    "mySet.difference(yourSet)\n",
    "mySet=yourSet\n",
    "\n",
    "{3,100}.issubset(yourSet)\n",
    "{3,100}<=yourSet\n",
    "mySet.add(\"house\")\n",
    "mySet\n",
    "# mySet.remove(4.5)\n",
    "# mySet\n",
    "mySet.pop()\n",
    "mySet\n",
    "mySet.clear()\n",
    "mySet\n"
   ]
  },
  {
   "cell_type": "code",
   "execution_count": 10,
   "metadata": {},
   "outputs": [
    {
     "output_type": "stream",
     "name": "stdout",
     "text": [
      "Denpasar\n{'Bali': 'Denpasar', 'Jateng': 'Solo', 'Jabar': 'Bandung'}\n4\nDenpasar  berada di  Bali\nSolo  berada di  Jateng\nBandung  berada di  Jabar\nKediri  berada di  Jatim\n"
     ]
    }
   ],
   "source": [
    "# Listing 1.1\n",
    "kota={'Bali':'Denpasar','Jateng':'Solo'}\n",
    "print(kota['Bali'])\n",
    "kota['Jabar']='Bandung'\n",
    "print(kota)\n",
    "kota['Jatim']='Kediri'\n",
    "print(len(kota))\n",
    "for k in kota:\n",
    "    print(kota[k],\" berada di \", k)"
   ]
  },
  {
   "cell_type": "code",
   "execution_count": 9,
   "metadata": {},
   "outputs": [
    {
     "output_type": "execute_result",
     "data": {
      "text/plain": [
       "'NO ENTRY'"
      ]
     },
     "metadata": {},
     "execution_count": 9
    }
   ],
   "source": [
    "# Latihan 10\n",
    "phoneext={'nurul':1490, 'lisa':1157}\n",
    "phoneext\n",
    "phoneext.keys()\n",
    "list(phoneext.keys())\n",
    "phoneext.values()\n",
    "list(phoneext.values())\n",
    "phoneext.items()\n",
    "list(phoneext.items())\n",
    "phoneext.get(\"ulya\")\n",
    "phoneext.get(\"ulya\",\"NO ENTRY\")"
   ]
  },
  {
   "cell_type": "code",
   "execution_count": null,
   "metadata": {},
   "outputs": [],
   "source": []
  }
 ]
}