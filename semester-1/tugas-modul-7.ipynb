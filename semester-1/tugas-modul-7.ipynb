{
 "metadata": {
  "language_info": {
   "codemirror_mode": {
    "name": "ipython",
    "version": 3
   },
   "file_extension": ".py",
   "mimetype": "text/x-python",
   "name": "python",
   "nbconvert_exporter": "python",
   "pygments_lexer": "ipython3",
   "version": "3.8.5-final"
  },
  "orig_nbformat": 2,
  "kernelspec": {
   "name": "python3",
   "display_name": "Python 3",
   "language": "python"
  }
 },
 "nbformat": 4,
 "nbformat_minor": 2,
 "cells": [
  {
   "cell_type": "code",
   "execution_count": 8,
   "metadata": {},
   "outputs": [
    {
     "output_type": "stream",
     "name": "stdout",
     "text": [
      "Selamat Pagi\nSelamat Siang\nSelamat Sore\nSelamat Malam\nhai dunia\nhello dunia\nhello world\n________________\nSelamat Pagi\nSelamat Siang\nSelamat Sore\nSelamat Malam\nhai dunia\nhello dunia\nhello world\n"
     ]
    }
   ],
   "source": [
    "# membuat fungsi\n",
    "def ucapan():\n",
    "    print (\"Selamat Pagi\")\n",
    "    print (\"Selamat Siang\")\n",
    "    print (\"Selamat Sore\")\n",
    "    print (\"Selamat Malam\")\n",
    "\n",
    "def hai():\n",
    "    print ('hai dunia')\n",
    "    print ('hello dunia')\n",
    "    print ('hello world')\n",
    "\n",
    "# memanggil fungsi\n",
    "ucapan()\n",
    "hai()\n",
    "print('________________')\n",
    "ucapan()\n",
    "hai()"
   ]
  },
  {
   "cell_type": "code",
   "execution_count": 11,
   "metadata": {},
   "outputs": [
    {
     "output_type": "stream",
     "name": "stdout",
     "text": [
      "Halo budi\nHalo Informatika\n--------------------\nLuas Segitiga: 24.0\n---------------------\n4 < 5\n5 > 4\n"
     ]
    }
   ],
   "source": [
    "#membuat fungsi dengan parameter\n",
    "#fungsi dengan 1 parameter\n",
    "def halo(nama):\n",
    "    print ('Halo',nama)\n",
    "#fungsi dengan 2 parameter\n",
    "def luas_segitiga(alas, tinggi):\n",
    "    luas = (alas*tinggi)/2\n",
    "    print ('Luas Segitiga:',luas)\n",
    "def banding(a, b):\n",
    "    if a > b:\n",
    "        print ('%s > %s'%(a,b))\n",
    "    else:\n",
    "        print ('%s < %s'%(a,b))\n",
    "#memanggil fungsi\n",
    "halo('budi')\n",
    "halo('Informatika')\n",
    "print('--------------------')\n",
    "luas_segitiga(8,6)\n",
    "print('---------------------')\n",
    "banding(4,5)\n",
    "banding(5,4)"
   ]
  },
  {
   "cell_type": "code",
   "execution_count": 4,
   "metadata": {},
   "outputs": [
    {
     "output_type": "stream",
     "name": "stdout",
     "text": [
      "Luas Persegi: None\n"
     ]
    }
   ],
   "source": [
    "#fungsi dengan nilai balik\n",
    "def luas_persegi(sisi):\n",
    "    luas = sisi * sisi\n",
    "# Memanggil fungsi\n",
    "a = luas_persegi(6)\n",
    "print ('Luas Persegi:',a)"
   ]
  },
  {
   "cell_type": "code",
   "execution_count": 3,
   "metadata": {},
   "outputs": [
    {
     "output_type": "stream",
     "name": "stdout",
     "text": [
      "Luas Persegi: 36\n"
     ]
    }
   ],
   "source": [
    "#fungsi dengan nilai balik\n",
    "def luas_persegi(sisi):\n",
    "    luas = sisi * sisi\n",
    "    return luas\n",
    "# Memanggil fungsi\n",
    "a = luas_persegi(6)\n",
    "print ('Luas Persegi:',a)"
   ]
  },
  {
   "cell_type": "code",
   "execution_count": 15,
   "metadata": {},
   "outputs": [
    {
     "output_type": "stream",
     "name": "stdout",
     "text": [
      "Volume Persegi: 216\n"
     ]
    }
   ],
   "source": [
    "def luas_persegi(sisi):\n",
    "    luas = sisi * sisi\n",
    "    return luas\n",
    "def volume_persegi(sisi):\n",
    "    volume = luas_persegi(sisi) * sisi\n",
    "    return volume\n",
    "# Memanggil fungsi\n",
    "a = volume_persegi (6)\n",
    "print ('Volume Persegi:',a)"
   ]
  },
  {
   "cell_type": "code",
   "execution_count": 18,
   "metadata": {},
   "outputs": [
    {
     "output_type": "stream",
     "name": "stdout",
     "text": [
      "Variabel global= 1\n1\n===================\nVariabel global= 1\n===================\nVariabel global= 1\n3\n===================\nVariabel global= 1\n4\n===================\nVariabel global= 4\n"
     ]
    }
   ],
   "source": [
    "#variabel global\n",
    "a = 1\n",
    "def fungsi1():\n",
    "    print (a)\n",
    "\n",
    "def fungsi2():\n",
    "    #variabel lokal\n",
    "    a = 2\n",
    "\n",
    "def fungsi3():\n",
    "    #variabel lokal\n",
    "    a = 3\n",
    "    print (a)\n",
    "\n",
    "def fungsi4():\n",
    "    global a\n",
    "    #variabel lokal\n",
    "    a = 4\n",
    "    print (a)\n",
    "\n",
    "print ('Variabel global=',a)\n",
    "fungsi1()\n",
    "print ('===================')\n",
    "print ('Variabel global=',a)\n",
    "fungsi2()\n",
    "print ('===================')\n",
    "print ('Variabel global=',a)\n",
    "fungsi3()\n",
    "print ('===================')\n",
    "print ('Variabel global=',a)\n",
    "fungsi4()\n",
    "print ('===================')\n",
    "print ('Variabel global=',a)"
   ]
  },
  {
   "cell_type": "code",
   "execution_count": 6,
   "metadata": {},
   "outputs": [
    {
     "output_type": "stream",
     "name": "stdout",
     "text": [
      "100 C =  80.0 R 212.0 F 373.15 K\n"
     ]
    }
   ],
   "source": [
    "def celciusToReamur(suhu):\n",
    "    suhu = 4/5*suhu\n",
    "    return suhu\n",
    "\n",
    "def celciusToFahrenheit(suhu):\n",
    "    suhu = (9/5*suhu)+32\n",
    "    return suhu\n",
    "\n",
    "def celciusToKelvin(suhu):\n",
    "    suhu = suhu+273.15\n",
    "    return suhu\n",
    "\n",
    "ctr = celciusToReamur(100)\n",
    "ctf = celciusToFahrenheit(100)\n",
    "ctk = celciusToKelvin(100)\n",
    "print(\"100 C = \",ctr,\"R\",ctf,\"F\",ctk,\"K\")"
   ]
  },
  {
   "cell_type": "code",
   "execution_count": 9,
   "metadata": {},
   "outputs": [
    {
     "output_type": "stream",
     "name": "stdout",
     "text": [
      "14 3\n"
     ]
    }
   ],
   "source": [
    "def plus(foo,bar):\n",
    "    tambah = foo + bar\n",
    "    return tambah\n",
    "\n",
    "def min(foo,bar):\n",
    "    kurang = foo - bar\n",
    "    return kurang\n",
    "\n",
    "t = plus(7,7)\n",
    "k = min(9,6)\n",
    "print(t,k)"
   ]
  },
  {
   "cell_type": "code",
   "execution_count": null,
   "metadata": {},
   "outputs": [],
   "source": []
  }
 ]
}