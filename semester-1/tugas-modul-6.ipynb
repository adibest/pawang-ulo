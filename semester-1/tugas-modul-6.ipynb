{
 "metadata": {
  "language_info": {
   "codemirror_mode": {
    "name": "ipython",
    "version": 3
   },
   "file_extension": ".py",
   "mimetype": "text/x-python",
   "name": "python",
   "nbconvert_exporter": "python",
   "pygments_lexer": "ipython3",
   "version": "3.8.5-final"
  },
  "orig_nbformat": 2,
  "kernelspec": {
   "name": "python3",
   "display_name": "Python 3",
   "language": "python"
  }
 },
 "nbformat": 4,
 "nbformat_minor": 2,
 "cells": [
  {
   "cell_type": "code",
   "execution_count": null,
   "metadata": {},
   "outputs": [],
   "source": [
    "#PRAKTIKUM\n",
    "#Kegiatan 1 : For Loop\n",
    "'contoh iterasi 1'\n",
    "for n in 'Pemrograman Python':\n",
    "    print ('Huruf :', n)"
   ]
  },
  {
   "cell_type": "code",
   "execution_count": 1,
   "metadata": {},
   "outputs": [
    {
     "output_type": "stream",
     "name": "stdout",
     "text": [
      "Mobil : sedan\nMobil : truk\nMobil : angkot\n"
     ]
    }
   ],
   "source": [
    "'contoh iterasi 2'\n",
    "mobil = ['sedan', 'truk', 'angkot']\n",
    "for p in mobil:\n",
    "    print ('Mobil :',p)"
   ]
  },
  {
   "cell_type": "code",
   "execution_count": null,
   "metadata": {},
   "outputs": [],
   "source": [
    "'contoh iterasi 3'\n",
    "angka = [1,2,3,4,5,6]\n",
    "for i in angka:\n",
    "    print ('List ke',i)"
   ]
  },
  {
   "cell_type": "code",
   "execution_count": null,
   "metadata": {},
   "outputs": [],
   "source": [
    "'contoh iterasi 2 - modifikasi'\n",
    "mobil = {1:'sedan', 2:'truk', 3:'angkot'}\n",
    "for p in mobil:\n",
    "    print (p,mobil[p])"
   ]
  },
  {
   "cell_type": "code",
   "execution_count": null,
   "metadata": {},
   "outputs": [],
   "source": [
    "# Kegiatan 2 : Penggunaan fungsi range() pada for\n",
    "'contoh range 1'\n",
    "for i in range(5):\n",
    "    print (i)\n",
    "print ('------------')"
   ]
  },
  {
   "cell_type": "code",
   "execution_count": null,
   "metadata": {},
   "outputs": [],
   "source": [
    "'contoh range 2'\n",
    "for i in range(1,5):\n",
    "    print (i)\n",
    "print ('------------')"
   ]
  },
  {
   "cell_type": "code",
   "execution_count": null,
   "metadata": {},
   "outputs": [],
   "source": [
    "'contoh range 3'\n",
    "for i in range(1,15,3):\n",
    "    print (i)"
   ]
  },
  {
   "cell_type": "code",
   "execution_count": 52,
   "metadata": {},
   "outputs": [
    {
     "output_type": "stream",
     "name": "stdout",
     "text": [
      "bil ke :  0\nbil ke :  1\nbil ke :  2\nbil ke :  3\nbil ke :  4\nbil ke :  5\nbil ke :  6\nbil ke :  7\nbil ke :  8\nbil ke :  9\nbil ke :  10\n"
     ]
    }
   ],
   "source": [
    "# Kegiatan 3 : While Loop\n",
    "bil = 0\n",
    "while bil <= 10:\n",
    "    print (\"bil ke : \", bil)\n",
    "    bil = bil + 1"
   ]
  },
  {
   "cell_type": "code",
   "execution_count": 53,
   "metadata": {},
   "outputs": [
    {
     "output_type": "stream",
     "name": "stdout",
     "text": [
      "bil ke :  0\nbil ke :  1\nbil ke :  2\nbil ke :  3\nbil ke :  4\nbil ke :  5\nbil ke :  6\nbil ke :  7\nbil ke :  8\nbil ke :  9\nbil ke :  10\nIni bilangan:  11\n"
     ]
    }
   ],
   "source": [
    "bil = 0\n",
    "while bil <= 10:\n",
    "    print (\"bil ke : \", bil)\n",
    "    bil = bil + 1\n",
    "else:\n",
    "    print (\"Ini bilangan: \", bil)"
   ]
  },
  {
   "cell_type": "code",
   "execution_count": null,
   "metadata": {},
   "outputs": [],
   "source": [
    "# Kegiatan 4 : Infinite Loop (While)\n",
    "var = 1\n",
    "while var == 1:\n",
    "    i = input(\"Masukkan angka :\")\n",
    "    print (\"Angka anda : \",i)\n",
    "# jangan dijalankan!"
   ]
  },
  {
   "cell_type": "code",
   "execution_count": 11,
   "metadata": {},
   "outputs": [
    {
     "output_type": "stream",
     "name": "stdout",
     "text": [
      "Cetak huruf: P\nCetak huruf: y\nCetak huruf: t\n-----------\n"
     ]
    }
   ],
   "source": [
    "# Kegiatan 5 : Kendali Looping (Break dan Continue)\n",
    "'contoh for'\n",
    "for i in 'Python':\n",
    "    if i == 'h':\n",
    "        break\n",
    "    print ('Cetak huruf:', i)\n",
    "print ('-----------')"
   ]
  },
  {
   "cell_type": "code",
   "execution_count": null,
   "metadata": {},
   "outputs": [],
   "source": [
    "'contoh while'\n",
    "bil = 10\n",
    "while bil > 0:\n",
    "    bil = bil-1\n",
    "    if bil == 5:\n",
    "        break\n",
    "    print ('Cetak angka:', bil)\n",
    "print ('Good bye!')"
   ]
  },
  {
   "cell_type": "code",
   "execution_count": null,
   "metadata": {},
   "outputs": [],
   "source": [
    "# Kegiatan 5 : Kendali Looping (Break dan Continue)\n",
    "'contoh for'\n",
    "for i in 'Python':\n",
    "    if i == 'h':\n",
    "        continue\n",
    "    print ('Cetak huruf:', i)\n",
    "print ('-----------')"
   ]
  },
  {
   "cell_type": "code",
   "execution_count": null,
   "metadata": {},
   "outputs": [],
   "source": [
    "'contoh while'\n",
    "bil = 10\n",
    "while bil > 0:\n",
    "    bil = bil-1\n",
    "    if bil == 5:\n",
    "        continue\n",
    "    print ('Cetak angka:', bil)\n",
    "print ('Good bye!')"
   ]
  },
  {
   "cell_type": "code",
   "execution_count": null,
   "metadata": {},
   "outputs": [],
   "source": [
    "# Kegiatan 6 : Nested Loop\n",
    "i = 2\n",
    "while(i < 10):\n",
    "    j = 2\n",
    "    while(j <= (i/j)):\n",
    "        if not(i%j) :break\n",
    "        j = j + 1\n",
    "    if (j > i/j):\n",
    "        print (i, \"adalah bilangan prima\")\n",
    "    i = i + 1\n",
    "print ('Selesai')"
   ]
  },
  {
   "cell_type": "code",
   "execution_count": 2,
   "metadata": {},
   "outputs": [
    {
     "output_type": "stream",
     "name": "stdout",
     "text": [
      "2 adalah bilangan prima\n3 adalah bilangan prima\n5 adalah bilangan prima\n7 adalah bilangan prima\nSelesai\n"
     ]
    }
   ],
   "source": [
    "# Kegiatan 6 : Nested Loop\n",
    "i = 2\n",
    "for i in range(i,10):\n",
    "    j = 2\n",
    "    while(j <= (i/j)):\n",
    "        if not(i%j) :break\n",
    "        j = j + 1\n",
    "    if (j > i/j):\n",
    "        print (i, \"adalah bilangan prima\")\n",
    "    i = i + 1\n",
    "print ('Selesai')"
   ]
  },
  {
   "cell_type": "code",
   "execution_count": null,
   "metadata": {
    "tags": []
   },
   "outputs": [],
   "source": [
    "# TUGAS\n",
    "# 1. While loop ganjil 1-20\n",
    "\n",
    "i = 1\n",
    "while (i < 20):\n",
    "    print (i)\n",
    "    i = i + 2"
   ]
  },
  {
   "cell_type": "code",
   "execution_count": 20,
   "metadata": {},
   "outputs": [
    {
     "output_type": "stream",
     "name": "stdout",
     "text": [
      "Algoritma kurang dari 6 karakter\n"
     ]
    }
   ],
   "source": [
    "# 2. Menghitung karakter\n",
    "\n",
    "kara = input(\"masukkan karakter:\")\n",
    "for i in kara:\n",
    "    if len(kara) < 6:\n",
    "        print (\"Algoritma kurang dari 6 karakter\")\n",
    "        break\n",
    "    else:\n",
    "        print (\"Algoritma terdiri dari\",len(kara),\"karakter\")\n",
    "        break"
   ]
  },
  {
   "cell_type": "code",
   "execution_count": 51,
   "metadata": {},
   "outputs": [
    {
     "output_type": "stream",
     "name": "stdout",
     "text": [
      "tinggi setigiga 4\n   0\n  111\n 22222\n3333333\n"
     ]
    }
   ],
   "source": [
    "# 3. Segitiga Piramida\n",
    "\n",
    "undak = int(input(\"Masukkan angka:\"))\n",
    "print ('tinggi setigiga',undak)\n",
    "for i in range(undak):\n",
    "    v = str(i)\n",
    "    print(' '*(undak-i-1) + (v)*(2*i+1))"
   ]
  }
 ]
}