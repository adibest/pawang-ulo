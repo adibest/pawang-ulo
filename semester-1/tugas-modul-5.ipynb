{
 "metadata": {
  "language_info": {
   "codemirror_mode": {
    "name": "ipython",
    "version": 3
   },
   "file_extension": ".py",
   "mimetype": "text/x-python",
   "name": "python",
   "nbconvert_exporter": "python",
   "pygments_lexer": "ipython3",
   "version": "3.8.5-final"
  },
  "orig_nbformat": 2,
  "kernelspec": {
   "name": "python3",
   "display_name": "Python 3",
   "language": "python"
  }
 },
 "nbformat": 4,
 "nbformat_minor": 2,
 "cells": [
  {
   "cell_type": "code",
   "execution_count": 3,
   "metadata": {},
   "outputs": [
    {
     "output_type": "stream",
     "name": "stdout",
     "text": [
      "Hari Rabu\n"
     ]
    }
   ],
   "source": [
    "# PRAKTIKUM\n",
    "# Kegiatan 1 : Fungsi IF\n",
    "hari = int(input('Masukan Angka: '))\n",
    "if (hari==1):\n",
    "    print (\"Hari Senin\")\n",
    "if (hari==2):\n",
    "    print (\"Hari Selasa\")\n",
    "if (hari==3):\n",
    "    print (\"Hari Rabu\")\n",
    "if (hari==4):\n",
    "    print (\"Hari Kamis\")\n",
    "if (hari==5):\n",
    "    print (\"Hari Jumat\")\n",
    "if (hari==6):\n",
    "    print (\"Hari Sabtu\")\n",
    "if (hari==7):\n",
    "    print (\"Hari Minggu\")"
   ]
  },
  {
   "cell_type": "code",
   "execution_count": 3,
   "metadata": {},
   "outputs": [
    {
     "output_type": "stream",
     "name": "stdout",
     "text": [
      "Selamat Anda Lulus\n"
     ]
    }
   ],
   "source": [
    "# Kegiatan 2 : Fungsi IF-ELSE\n",
    "#Jika pernyataan pada if bernilai TRUE maka if akan dieksekusi, tetapi \n",
    "# jika FALSE kode pada else yang akan dieksekusi.\n",
    "nilai = int(input('masukkan nilai='))\n",
    "if(nilai > 70):\n",
    "    print(\"Selamat Anda Lulus\")\n",
    "else:\n",
    "    print(\"Maaf Anda Tidak Lulus\")"
   ]
  },
  {
   "cell_type": "code",
   "execution_count": 6,
   "metadata": {},
   "outputs": [
    {
     "output_type": "stream",
     "name": "stdout",
     "text": [
      "Kebanyakan bolos...\n"
     ]
    }
   ],
   "source": [
    "# Kegiatan 3 : Fungsi IF - ELIF - ELSE\n",
    "nilai = input('masukkan nilai huruf=')\n",
    "if nilai == 'A':\n",
    "    print('Pertahankan')\n",
    "elif nilai == 'B':\n",
    "    print('Harus lebih baik lagi')\n",
    "elif nilai == 'C':\n",
    "    print('Perbanyak belajar')\n",
    "elif nilai == 'D':\n",
    "    print('Jangan keseringan main')\n",
    "elif nilai == 'E':\n",
    "    print('Kebanyakan bolos...')\n",
    "else:\n",
    "    print('Maaf, format nilai tidak sesuai')"
   ]
  },
  {
   "cell_type": "code",
   "execution_count": 1,
   "metadata": {},
   "outputs": [
    {
     "output_type": "stream",
     "name": "stdout",
     "text": [
      "Ini bukan huruf\n"
     ]
    }
   ],
   "source": [
    "# Kegiatan 4 : Fungsi IF Bersarang (Nested IF)\n",
    "# 4.1 Menentukan Huruf Besar Dan Kecil\n",
    "huruf = input(\"Masukkan sebuah huruf: \")\n",
    "if (huruf >= 'A'):\n",
    "    if (huruf <= 'Z'):\n",
    "        print (\"Ini adalah Huruf Besar\")\n",
    "    elif (huruf >= 'a'):\n",
    "        if (huruf <= 'z'):\n",
    "            print (\"Ini adalah huruf kecil\")\n",
    "else:\n",
    "    print (\"Ini bukan huruf\")"
   ]
  },
  {
   "cell_type": "code",
   "execution_count": 15,
   "metadata": {},
   "outputs": [
    {
     "output_type": "stream",
     "name": "stdout",
     "text": [
      "Selamat Datang, Python!\n"
     ]
    }
   ],
   "source": [
    "# 4.2 Konfirmasi Akun\n",
    "#contoh if bersarang dengan 2 tingkat if dan bercabang\n",
    "#username: python\n",
    "#password: 129912\n",
    "username = input('Masukan Username:')\n",
    "password = input('Masukan Password:')\n",
    "if username == 'python':\n",
    "    if password == '129912':\n",
    "        print ('Selamat Datang, Python!')\n",
    "    else :\n",
    "        print ('Password Salah')\n",
    "else :\n",
    "    print ('Akun tidak terdaftar')"
   ]
  },
  {
   "cell_type": "code",
   "execution_count": 25,
   "metadata": {},
   "outputs": [
    {
     "output_type": "stream",
     "name": "stdout",
     "text": [
      "ganjil\n"
     ]
    }
   ],
   "source": [
    "# TUGAS\n",
    "# 1. Ganjilkah? Genapkah?\n",
    "angka = int(input('Masukkan angka antara 1-20:'))\n",
    "if angka > 0 and angka < 20 :\n",
    "    if angka % 2 == 0 :\n",
    "        print ('genap')\n",
    "    else :\n",
    "        print ('ganjil')\n",
    "else :\n",
    "    print ('Offside ongkomu')"
   ]
  },
  {
   "cell_type": "code",
   "execution_count": 30,
   "metadata": {},
   "outputs": [
    {
     "output_type": "stream",
     "name": "stdout",
     "text": [
      "B\n"
     ]
    }
   ],
   "source": [
    "# 2. Rentang Nilaimu dalam Huruf\n",
    "nilai = int(input('Masukkan nilaimu:'))\n",
    "if nilai >= 0 and nilai <=100 : \n",
    "    if nilai < 45  :\n",
    "        print ('E')\n",
    "    elif nilai >= 45 and nilai < 56 :\n",
    "        print ('D')\n",
    "    elif nilai >= 56 and nilai < 68 :\n",
    "        print ('C')\n",
    "    elif nilai >=68 and nilai < 78 :\n",
    "        print ('B')\n",
    "    else :\n",
    "        print ('A')\n",
    "else :\n",
    "    print ('Input salah')"
   ]
  }
 ]
}