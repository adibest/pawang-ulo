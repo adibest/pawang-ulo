{
 "metadata": {
  "language_info": {
   "codemirror_mode": {
    "name": "ipython",
    "version": 3
   },
   "file_extension": ".py",
   "mimetype": "text/x-python",
   "name": "python",
   "nbconvert_exporter": "python",
   "pygments_lexer": "ipython3",
   "version": "3.8.5-final"
  },
  "orig_nbformat": 2,
  "kernelspec": {
   "name": "python3",
   "display_name": "Python 3",
   "language": "python"
  }
 },
 "nbformat": 4,
 "nbformat_minor": 2,
 "cells": [
  {
   "cell_type": "code",
   "execution_count": 2,
   "metadata": {},
   "outputs": [
    {
     "output_type": "stream",
     "name": "stdout",
     "text": [
      "---Data Mahasiswa---\nNama = Dibyo Susanto\nNIM = 2020070020\nProgram Studi = Teknik Informatika\n----------\nSelamat Datang Dibyo Susanto,\nAnda merupakan mahasiswa program studi Teknik Informatika dengan NIM 2020070020\n"
     ]
    }
   ],
   "source": [
    "# PRAKTIKUM\n",
    "# Kegiatan 1\n",
    "nama = input(\"Masukkan nama mahasiswa:  \")\n",
    "nim = input(\"Masukkan nim mahasiswa:\")\n",
    "prodi = input(\"Masukkan program studi mahasiswa\")\n",
    "\n",
    "print(\"---Data Mahasiswa---\")\n",
    "print(\"Nama =\",nama)\n",
    "print(\"NIM =\",nim)\n",
    "print(\"Program Studi =\",prodi)\n",
    "print(\"----------\")\n",
    "print(\"Selamat Datang %s,\"%nama)\n",
    "print(\"Anda merupakan mahasiswa program studi %s dengan NIM %s\" %(prodi, nim))"
   ]
  },
  {
   "cell_type": "code",
   "execution_count": 3,
   "metadata": {},
   "outputs": [
    {
     "output_type": "stream",
     "name": "stdout",
     "text": [
      "...............................\nHasil penjumlahan 2 dan 4 adalah 6\nHasil perkalian 2 dan 4 adalah 8\n"
     ]
    }
   ],
   "source": [
    "# Kegiatan 2\n",
    "bil1 = input(\"Masukkan bilangan pertama:\")\n",
    "bil2 = input(\"Masukkan bilangan kedua:\")\n",
    "\n",
    "a=int(bil1)\n",
    "b=int(bil2)\n",
    "\n",
    "print(\"...............................\")\n",
    "print(\"Hasil penjumlahan %d dan %d adalah %d\"%(a,b,a+b))\n",
    "print(\"Hasil perkalian\",a,\"dan\",b,\"adalah\",a*b)"
   ]
  },
  {
   "cell_type": "code",
   "execution_count": 10,
   "metadata": {},
   "outputs": [
    {
     "output_type": "stream",
     "name": "stdout",
     "text": [
      "...............................\nHasil pengurangan 9 dan 5 adalah 14\nHasil pembagian 9.0 dan 5.0 adalah 1.8\n"
     ]
    }
   ],
   "source": [
    "# Kegiatan 3\n",
    "bila = input(\"Masukkan bilangan pertama:\")\n",
    "bilb = input(\"Masukkan bilangan kedua:\")\n",
    "\n",
    "a=float(bila)\n",
    "b=float(bilb)\n",
    "\n",
    "print(\"...............................\")\n",
    "print(\"Hasil pengurangan %d dan %d adalah %d\"%(a,b,a+b))\n",
    "print(\"Hasil pembagian\",a,\"dan\",b,\"adalah\",a/b)"
   ]
  },
  {
   "cell_type": "code",
   "execution_count": 1,
   "metadata": {},
   "outputs": [
    {
     "output_type": "stream",
     "name": "stdout",
     "text": [
      "***********************\nAssalamu'alaikum, Adib\nAnda bertempat tinggal di Tenggat. Usia anda saat ini adalah 18 tahun. Semoga sehat selalu!!\n"
     ]
    }
   ],
   "source": [
    "# Kegiatan 4\n",
    "a=input(\"Nama: \")\n",
    "b=input(\"Alamat: \")\n",
    "c=input(\"Usia: \")\n",
    "\n",
    "print(\"***********************\")\n",
    "print(\"Assalamu'alaikum, {}\".format(a))\n",
    "print(\"Anda bertempat tinggal di {}. Usia anda saat ini adalah {} tahun. Semoga sehat selalu!!\".format(b,c))"
   ]
  },
  {
   "cell_type": "code",
   "execution_count": 13,
   "metadata": {},
   "outputs": [
    {
     "output_type": "stream",
     "name": "stdout",
     "text": [
      "===Data Login anda===\nusername: tsebida\npassword: survive7\n"
     ]
    }
   ],
   "source": [
    "# Kegiatan 5\n",
    "import getpass\n",
    "uid = input('masukken user id anda :')\n",
    "pwd = getpass.getpass('masukkan password anda')\n",
    "\n",
    "print('===Data Login anda===')\n",
    "print('username:',uid)\n",
    "print('password:',pwd)"
   ]
  },
  {
   "cell_type": "code",
   "execution_count": 16,
   "metadata": {},
   "outputs": [
    {
     "output_type": "stream",
     "name": "stdout",
     "text": [
      "====Nilai Akhir====\n====== 68.0 ======\n"
     ]
    }
   ],
   "source": [
    "# TUGAS\n",
    "# 1. Program Menghitung Nilai Akhir Ujian Mahasiswa\n",
    "\n",
    "uts = int(input('masukkan nilai UTS:'))\n",
    "uas = int(input('masukkan nilai UAS:'))\n",
    "tgs1 = int(input('masukkan nilai tugas 1:'))\n",
    "tgs2 = int(input('masukkan nilai tugas 2:'))\n",
    "quiz = int(input('masukkan nilai quiz:'))\n",
    "\n",
    "na = (uts*25/100)+(uas*35/100)+(tgs1*20/100)+(tgs2*10/100)+(quiz*10/100)\n",
    "\n",
    "print(\"====Nilai Akhir====\")\n",
    "print(\"======\",na,\"======\")"
   ]
  },
  {
   "cell_type": "code",
   "execution_count": 15,
   "metadata": {},
   "outputs": [
    {
     "output_type": "stream",
     "name": "stdout",
     "text": [
      "=====Data Pasien=====\nNomor : 0293\nNama : Samadi\nUsia : 48\nAlamat : T.Moyo\nKeluhan : Gusi Bengkak\nPoli : Gigi\n"
     ]
    }
   ],
   "source": [
    "# 2. Input Data Pasien\n",
    "\n",
    "f=input('Masukkan Nomor Pasien:')\n",
    "a=input('Masukkan Nama Pasien:')\n",
    "b=input('Masukkan Usia Pasien:')\n",
    "c=input('Masukkan Alamat Pasien:')\n",
    "d=input('Masukkan Keluhan Pasien:')\n",
    "e=input('Masukkan Poli Pasien:')\n",
    "\n",
    "print('=====Data Pasien=====')\n",
    "print('Nomor :',f)\n",
    "print('Nama :',a)\n",
    "print('Usia :',b)\n",
    "print('Alamat :',c)\n",
    "print('Keluhan :',d)\n",
    "print('Poli :',e)\n"
   ]
  }
 ]
}