{
 "metadata": {
  "language_info": {
   "codemirror_mode": {
    "name": "ipython",
    "version": 3
   },
   "file_extension": ".py",
   "mimetype": "text/x-python",
   "name": "python",
   "nbconvert_exporter": "python",
   "pygments_lexer": "ipython3",
   "version": "3.8.5"
  },
  "orig_nbformat": 2,
  "kernelspec": {
   "name": "python38564bit55d503eee2084ee79dc354b1a702c1c7",
   "display_name": "Python 3.8.5 64-bit",
   "language": "python"
  }
 },
 "nbformat": 4,
 "nbformat_minor": 2,
 "cells": [
  {
   "cell_type": "code",
   "execution_count": null,
   "metadata": {},
   "outputs": [],
   "source": [
    "# Dibyo Susanto / 2020070020\n",
    "# Tugas Modul 1 Revisi"
   ]
  },
  {
   "cell_type": "code",
   "execution_count": 2,
   "metadata": {},
   "outputs": [
    {
     "output_type": "stream",
     "name": "stdout",
     "text": [
      "Assalamu'alaikum\nSaya belajar bahasa Python di Laboratorium Informatika\nSemangat!!\n"
     ]
    }
   ],
   "source": [
    "print(\"Assalamu'alaikum\")\n",
    "a=\"Laboratorium Informatika\"\n",
    "print(\"Saya belajar bahasa Python di \"+a)\n",
    "print(\"Semangat!!\")"
   ]
  },
  {
   "cell_type": "code",
   "execution_count": 3,
   "metadata": {},
   "outputs": [
    {
     "output_type": "stream",
     "name": "stdout",
     "text": [
      "6\n-2\n4.0\nTrue\nFalse\n"
     ]
    }
   ],
   "source": [
    "a = 2\n",
    "b = 4\n",
    "c = 6\n",
    "d = 8\n",
    "\n",
    "print(a+b)\n",
    "print(c-d)\n",
    "print(d/a)\n",
    "print(b>a)\n",
    "print(c<a)"
   ]
  },
  {
   "cell_type": "code",
   "execution_count": 5,
   "metadata": {},
   "outputs": [
    {
     "output_type": "stream",
     "name": "stdout",
     "text": [
      "---Menghitung Luas Persegi Panjang---\nPanjang  = 5\nLebar = 8\nRumus = pxl= 40\n"
     ]
    }
   ],
   "source": [
    "# Program Menghitung Luas Persegi Panjang\n",
    "panjang = 5\n",
    "lebar = 8\n",
    "luas = panjang*lebar\n",
    "print(\"---Menghitung Luas Persegi Panjang---\")\n",
    "print(\"Panjang  = \"+str(panjang))\n",
    "print(\"Lebar = \"+str(lebar))\n",
    "print(\"Rumus = pxl = \"+str(luas))\n",
    "print(\"Jadi, Luas Persegi Panjang adalah \"+str(luas))"
   ]
  },
  {
   "cell_type": "code",
   "execution_count": 3,
   "metadata": {},
   "outputs": [
    {
     "output_type": "stream",
     "name": "stdout",
     "text": [
      "Nama Lengkap : Dibyo Susanto\nNama Panggilan : Adib\nAlamat : Tirtomoyo Wonogiri\nAsal Sekolah : SMAN 1 Wonogiri\nHobi : Membaca, Sok Menganalisa\n"
     ]
    }
   ],
   "source": [
    "# Tugas No. 4\n",
    "# Program Menampilkan Identitas\n",
    "\n",
    "nama = 'Dibyo Susanto'\n",
    "panggilan = 'Adib'\n",
    "alamat = 'Tirtomoyo Wonogiri'\n",
    "asal_sekolah = 'SMAN 1 Wonogiri'\n",
    "hobi = 'Membaca, Sok Menganalisa'\n",
    "\n",
    "print('Nama Lengkap :', nama)\n",
    "print('Nama Panggilan :', panggilan)\n",
    "print('Alamat :', alamat)\n",
    "print('Asal Sekolah :', asal_sekolah)\n",
    "print('Hobi :', hobi)"
   ]
  }
 ]
}