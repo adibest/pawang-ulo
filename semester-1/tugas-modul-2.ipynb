{
 "metadata": {
  "language_info": {
   "codemirror_mode": {
    "name": "ipython",
    "version": 3
   },
   "file_extension": ".py",
   "mimetype": "text/x-python",
   "name": "python",
   "nbconvert_exporter": "python",
   "pygments_lexer": "ipython3",
   "version": "3.8.5-final"
  },
  "orig_nbformat": 2,
  "kernelspec": {
   "name": "python3",
   "display_name": "Python 3",
   "language": "python"
  }
 },
 "nbformat": 4,
 "nbformat_minor": 2,
 "cells": [
  {
   "cell_type": "code",
   "execution_count": 5,
   "metadata": {},
   "outputs": [
    {
     "output_type": "stream",
     "name": "stdout",
     "text": [
      "Informatika ITS PKU dengan petik satu\nInformatika ITS PKU dengan petik dua\n\"Informatika ITS PKU dengan petik tiga\"\n1000\n33.33\nF00F00\n4j\nFalse\n"
     ]
    }
   ],
   "source": [
    "# Dibyo Susanto / 2020070020\n",
    "# Kegiatan 1 : Variabel dan Tipe Data\n",
    "#Tipe Data String\n",
    "a = 'Informatika ITS PKU dengan petik satu'\n",
    "b = \"Informatika ITS PKU dengan petik dua\"\n",
    "c = '\"Informatika ITS PKU dengan petik tiga\"'\n",
    "print(a)\n",
    "print(b)\n",
    "print(c)\n",
    "\n",
    "#Tipe Data Integer\n",
    "a = 1000\n",
    "print(a)\n",
    "#Tipe Data Float\n",
    "a = 33.33\n",
    "print(a)\n",
    "#Tipe Data Hexa\n",
    "a = 'F00F00'\n",
    "print(a)\n",
    "#Tipe Data Complex\n",
    "a = 4j\n",
    "print(a)\n",
    "#Tipe Data Boolean\n",
    "a = False\n",
    "print(a)"
   ]
  },
  {
   "cell_type": "code",
   "execution_count": null,
   "metadata": {},
   "outputs": [],
   "source": [
    "Analisa sintaks di atas\n",
    "1. Tipe data string di apit oleh tanda petik 1 dan petik 2\n",
    "2. Tipe data integer berupa angka bilangan bulat\n",
    "3. Tipe data float berupa angka bilangan desimal\n",
    "4. Tidak ada type data hexa\n",
    "5. Tipe data complex berupa bilangan yang memiliki variabel\n",
    "6. Tipe data boolean berupa benar atau salah"
   ]
  },
  {
   "cell_type": "code",
   "execution_count": 16,
   "metadata": {},
   "outputs": [
    {
     "output_type": "execute_result",
     "data": {
      "text/plain": [
       "str"
      ]
     },
     "metadata": {},
     "execution_count": 16
    }
   ],
   "source": [
    "# Kegiatan 2 : Menampilkan Tipe Data\n",
    "#Tipe Data String\n",
    "a = 'Informatika ITS PKU dengan petik satu'\n",
    "b = \"Informatika ITS PKU dengan petik dua\"\n",
    "c = '\"Informatika ITS PKU dengan petik tiga\"'\n",
    "type(a)\n",
    "type(b)\n",
    "type(c)\n",
    "\n"
   ]
  },
  {
   "cell_type": "code",
   "execution_count": 17,
   "metadata": {},
   "outputs": [
    {
     "output_type": "execute_result",
     "data": {
      "text/plain": [
       "int"
      ]
     },
     "metadata": {},
     "execution_count": 17
    }
   ],
   "source": [
    "#Tipe Data Integer\n",
    "a = 1000\n",
    "type(a)\n"
   ]
  },
  {
   "cell_type": "code",
   "execution_count": 18,
   "metadata": {},
   "outputs": [
    {
     "output_type": "execute_result",
     "data": {
      "text/plain": [
       "float"
      ]
     },
     "metadata": {},
     "execution_count": 18
    }
   ],
   "source": [
    "#Tipe Data Float\n",
    "a = 33.33\n",
    "type(a)\n"
   ]
  },
  {
   "cell_type": "code",
   "execution_count": 24,
   "metadata": {},
   "outputs": [
    {
     "output_type": "error",
     "ename": "NameError",
     "evalue": "name 'F00F00' is not defined",
     "traceback": [
      "\u001b[0;31m---------------------------------------------------------------------------\u001b[0m",
      "\u001b[0;31mNameError\u001b[0m                                 Traceback (most recent call last)",
      "\u001b[0;32m<ipython-input-24-b237c60a8438>\u001b[0m in \u001b[0;36m<module>\u001b[0;34m\u001b[0m\n\u001b[1;32m      1\u001b[0m \u001b[0;31m#Tipe Data Hexa\u001b[0m\u001b[0;34m\u001b[0m\u001b[0;34m\u001b[0m\u001b[0;34m\u001b[0m\u001b[0m\n\u001b[0;32m----> 2\u001b[0;31m \u001b[0ma\u001b[0m \u001b[0;34m=\u001b[0m \u001b[0mF00F00\u001b[0m\u001b[0;34m\u001b[0m\u001b[0;34m\u001b[0m\u001b[0m\n\u001b[0m\u001b[1;32m      3\u001b[0m \u001b[0mtype\u001b[0m\u001b[0;34m(\u001b[0m\u001b[0ma\u001b[0m\u001b[0;34m)\u001b[0m\u001b[0;34m\u001b[0m\u001b[0;34m\u001b[0m\u001b[0m\n",
      "\u001b[0;31mNameError\u001b[0m: name 'F00F00' is not defined"
     ]
    }
   ],
   "source": [
    "#Tipe Data Hexa\n",
    "a = F00F00\n",
    "type(a)\n"
   ]
  },
  {
   "cell_type": "code",
   "execution_count": 22,
   "metadata": {},
   "outputs": [
    {
     "output_type": "execute_result",
     "data": {
      "text/plain": [
       "complex"
      ]
     },
     "metadata": {},
     "execution_count": 22
    }
   ],
   "source": [
    "#Tipe Data Complex\n",
    "a = 4j\n",
    "type(a)\n"
   ]
  },
  {
   "cell_type": "code",
   "execution_count": 23,
   "metadata": {},
   "outputs": [
    {
     "output_type": "execute_result",
     "data": {
      "text/plain": [
       "bool"
      ]
     },
     "metadata": {},
     "execution_count": 23
    }
   ],
   "source": [
    "#Tipe Data Boolean\n",
    "a = False\n",
    "type(a)"
   ]
  },
  {
   "cell_type": "code",
   "execution_count": 25,
   "metadata": {},
   "outputs": [
    {
     "output_type": "stream",
     "name": "stdout",
     "text": [
      "Mahasiswa\nInformatika\nSaya belajar\nSaya Mahasiswa belajar python\n"
     ]
    }
   ],
   "source": [
    "# Kegiatan 3: Slicing pada String\n",
    "A ='Saya Mahasiswa Informatika'\n",
    "B = \"Saya belajar python\"\n",
    "print(A[5:14])\n",
    "print(A[15:])\n",
    "print(B[:12])\n",
    "print(A[:15]+B[5:])"
   ]
  },
  {
   "cell_type": "code",
   "execution_count": 27,
   "metadata": {},
   "outputs": [
    {
     "output_type": "stream",
     "name": "stdout",
     "text": [
      "a[1] =  10\na[0:4] =  [5, 10, 15, 20]\na[6:] =  [35, 40]\n[5, 13, 15, 20, 25, 30, 35, 40]\n[5, 'lima', 15, 20, 25, 30, 35, 40]\n[5, 'lima', 15, 20, 25, 30, 35, 40, 45, 'limapuluh', 55]\n<class 'list'>\n"
     ]
    }
   ],
   "source": [
    "# List, Tuple, Set, dan Dictionary\n",
    "\n",
    "# 1. Tipe data List\n",
    "a = [5,10,15,20,25,30,35,40]\n",
    "print(\"a[1] = \", a[1])\n",
    "print(\"a[0:4] = \", a[0:4])\n",
    "print(\"a[6:] = \", a[6:])\n",
    "a[1] = a[1]+3\n",
    "print(a)\n",
    "a[1] = \"lima\"\n",
    "print(a)\n",
    "a = a + [45,\"limapuluh\",55]\n",
    "print(a)\n",
    "print(type(a))"
   ]
  },
  {
   "cell_type": "code",
   "execution_count": 29,
   "metadata": {},
   "outputs": [
    {
     "output_type": "stream",
     "name": "stdout",
     "text": [
      "<class 'tuple'>\n<class 'tuple'>\n(100, 200, 300)\nsatu\ndua\n"
     ]
    },
    {
     "output_type": "error",
     "ename": "TypeError",
     "evalue": "'tuple' object does not support item assignment",
     "traceback": [
      "\u001b[0;31m---------------------------------------------------------------------------\u001b[0m",
      "\u001b[0;31mTypeError\u001b[0m                                 Traceback (most recent call last)",
      "\u001b[0;32m<ipython-input-29-ae2736127083>\u001b[0m in \u001b[0;36m<module>\u001b[0;34m\u001b[0m\n\u001b[1;32m      7\u001b[0m \u001b[0mprint\u001b[0m\u001b[0;34m(\u001b[0m\u001b[0my\u001b[0m\u001b[0;34m[\u001b[0m\u001b[0;36m0\u001b[0m\u001b[0;34m]\u001b[0m\u001b[0;34m)\u001b[0m\u001b[0;34m\u001b[0m\u001b[0;34m\u001b[0m\u001b[0m\n\u001b[1;32m      8\u001b[0m \u001b[0mprint\u001b[0m\u001b[0;34m(\u001b[0m\u001b[0my\u001b[0m\u001b[0;34m[\u001b[0m\u001b[0;36m1\u001b[0m\u001b[0;34m]\u001b[0m\u001b[0;34m)\u001b[0m\u001b[0;34m\u001b[0m\u001b[0;34m\u001b[0m\u001b[0m\n\u001b[0;32m----> 9\u001b[0;31m \u001b[0mx\u001b[0m\u001b[0;34m[\u001b[0m\u001b[0;36m0\u001b[0m\u001b[0;34m]\u001b[0m \u001b[0;34m=\u001b[0m \u001b[0;36m150\u001b[0m\u001b[0;34m\u001b[0m\u001b[0;34m\u001b[0m\u001b[0m\n\u001b[0m",
      "\u001b[0;31mTypeError\u001b[0m: 'tuple' object does not support item assignment"
     ]
    }
   ],
   "source": [
    "# 2. Tipe Data Tuple\n",
    "x = (100,200,300)\n",
    "y = ('satu','dua','tiga')\n",
    "print(type(x))\n",
    "print(type(y))\n",
    "print(x)\n",
    "print(y[0])\n",
    "print(y[1])\n",
    "x[0] = 150"
   ]
  },
  {
   "cell_type": "code",
   "execution_count": 30,
   "metadata": {},
   "outputs": [
    {
     "output_type": "stream",
     "name": "stdout",
     "text": [
      "{1, 2, 3}\n<class 'set'>\n{1, 2.0, (3, 4, 5), 'Algoritma'}\n<class 'set'>\n{1, 2, 3}\n<class 'set'>\n"
     ]
    },
    {
     "output_type": "error",
     "ename": "TypeError",
     "evalue": "unhashable type: 'list'",
     "traceback": [
      "\u001b[0;31m---------------------------------------------------------------------------\u001b[0m",
      "\u001b[0;31mTypeError\u001b[0m                                 Traceback (most recent call last)",
      "\u001b[0;32m<ipython-input-30-11978739403b>\u001b[0m in \u001b[0;36m<module>\u001b[0;34m\u001b[0m\n\u001b[1;32m      9\u001b[0m \u001b[0mprint\u001b[0m\u001b[0;34m(\u001b[0m\u001b[0mc\u001b[0m\u001b[0;34m)\u001b[0m\u001b[0;34m\u001b[0m\u001b[0;34m\u001b[0m\u001b[0m\n\u001b[1;32m     10\u001b[0m \u001b[0mprint\u001b[0m\u001b[0;34m(\u001b[0m\u001b[0mtype\u001b[0m\u001b[0;34m(\u001b[0m\u001b[0mc\u001b[0m\u001b[0;34m)\u001b[0m\u001b[0;34m)\u001b[0m\u001b[0;34m\u001b[0m\u001b[0;34m\u001b[0m\u001b[0m\n\u001b[0;32m---> 11\u001b[0;31m \u001b[0md\u001b[0m \u001b[0;34m=\u001b[0m \u001b[0;34m{\u001b[0m\u001b[0;36m1\u001b[0m\u001b[0;34m,\u001b[0m\u001b[0;36m2\u001b[0m\u001b[0;34m,\u001b[0m\u001b[0;34m[\u001b[0m\u001b[0;36m3\u001b[0m\u001b[0;34m,\u001b[0m\u001b[0;36m4\u001b[0m\u001b[0;34m,\u001b[0m\u001b[0;36m5\u001b[0m\u001b[0;34m]\u001b[0m\u001b[0;34m}\u001b[0m\u001b[0;34m\u001b[0m\u001b[0;34m\u001b[0m\u001b[0m\n\u001b[0m\u001b[1;32m     12\u001b[0m \u001b[0mprint\u001b[0m\u001b[0;34m(\u001b[0m\u001b[0md\u001b[0m\u001b[0;34m)\u001b[0m\u001b[0;34m\u001b[0m\u001b[0;34m\u001b[0m\u001b[0m\n",
      "\u001b[0;31mTypeError\u001b[0m: unhashable type: 'list'"
     ]
    }
   ],
   "source": [
    "# 3. Tipe Data Set\n",
    "a = set([1,2,3])\n",
    "print(a)\n",
    "print(type(a))\n",
    "b = {1, 2.0, \"Algoritma\", (3,4,5)}\n",
    "print(b)\n",
    "print(type(b))\n",
    "c = {1,2,2,3,3,3}\n",
    "print(c)\n",
    "print(type(c))\n",
    "d = {1,2,[3,4,5]}\n",
    "print(d)"
   ]
  },
  {
   "cell_type": "code",
   "execution_count": 31,
   "metadata": {},
   "outputs": [
    {
     "output_type": "stream",
     "name": "stdout",
     "text": [
      "<class 'dict'>\n{1: 'Jeruk', 2: 'Semangka', 'Apel': 3}\n{1: 'Melon', 2: 'Semangka', 'Apel': 3, 'Kiwi': 4}\nx[2] =  Semangka\nx['Apel'] =  3\n"
     ]
    },
    {
     "output_type": "error",
     "ename": "KeyError",
     "evalue": "3",
     "traceback": [
      "\u001b[0;31m---------------------------------------------------------------------------\u001b[0m",
      "\u001b[0;31mKeyError\u001b[0m                                  Traceback (most recent call last)",
      "\u001b[0;32m<ipython-input-31-b5821df1f969>\u001b[0m in \u001b[0;36m<module>\u001b[0;34m\u001b[0m\n\u001b[1;32m     11\u001b[0m \u001b[0mprint\u001b[0m\u001b[0;34m(\u001b[0m\u001b[0;34m\"x[2] = \"\u001b[0m\u001b[0;34m,\u001b[0m \u001b[0mx\u001b[0m\u001b[0;34m[\u001b[0m\u001b[0;36m2\u001b[0m\u001b[0;34m]\u001b[0m\u001b[0;34m)\u001b[0m\u001b[0;34m\u001b[0m\u001b[0;34m\u001b[0m\u001b[0m\n\u001b[1;32m     12\u001b[0m \u001b[0mprint\u001b[0m\u001b[0;34m(\u001b[0m\u001b[0;34m\"x['Apel'] = \"\u001b[0m\u001b[0;34m,\u001b[0m \u001b[0mx\u001b[0m\u001b[0;34m[\u001b[0m\u001b[0;34m'Apel'\u001b[0m\u001b[0;34m]\u001b[0m\u001b[0;34m)\u001b[0m\u001b[0;34m\u001b[0m\u001b[0;34m\u001b[0m\u001b[0m\n\u001b[0;32m---> 13\u001b[0;31m \u001b[0mprint\u001b[0m\u001b[0;34m(\u001b[0m\u001b[0;34m\"x[3] = \"\u001b[0m\u001b[0;34m,\u001b[0m \u001b[0mx\u001b[0m\u001b[0;34m[\u001b[0m\u001b[0;36m3\u001b[0m\u001b[0;34m]\u001b[0m\u001b[0;34m)\u001b[0m\u001b[0;34m\u001b[0m\u001b[0;34m\u001b[0m\u001b[0m\n\u001b[0m",
      "\u001b[0;31mKeyError\u001b[0m: 3"
     ]
    }
   ],
   "source": [
    "# 4. Tipe data Dictionary\n",
    "x = {1:'Jeruk', 2:'Semangka',\n",
    "'Apel':3}\n",
    "print(type(x))\n",
    "print(x)\n",
    "len(x)\n",
    "x[1]= 'Melon'\n",
    "x['Kiwi']= 4\n",
    "print(x)\n",
    "len(x)\n",
    "print(\"x[2] = \", x[2])\n",
    "print(\"x['Apel'] = \", x['Apel'])\n",
    "print(\"x[3] = \", x[3])"
   ]
  },
  {
   "cell_type": "code",
   "execution_count": null,
   "metadata": {},
   "outputs": [],
   "source": [
    "Analisa sintaks di atas\n",
    "1. Tipe data list merupakan tipe data daftar yang bebas, bisa diubah dan mengizinkan duplikasi\n",
    "2. Tipe data tuple nilainya tidak bisa diubah\n",
    "3. Tipe data set tidak membolehkan duplikasi nilai dan juga tidak membolehkan perubahan nilai\n",
    "4. Tipe data dictionary dipanggil dengan sintaks key:value, jika dibalik (value:key) maka error\n",
    "\n",
    "# D. TUGAS\n",
    "# 1. Perbedaan tipe data list dan tuple\n",
    "Tipe data list mutable, sedang tipe data tuple immutable. Hal ini karena value pada list bisa diubah, sedang di tipe data tuple fixed, tidak bisa diubah"
   ]
  },
  {
   "cell_type": "code",
   "execution_count": 16,
   "metadata": {},
   "outputs": [
    {
     "output_type": "stream",
     "name": "stdout",
     "text": [
      "('Pram', 'Tere Liye', 'Paulo Coelho', 'Puthut EA')\n('Bumi Manusia', 'Rosie', 'The Alchemist', 'Cinta Tak Pernah Tepat Waktu')\n('Gramedia', 'Republika', 'Elex Media Computindo', 'Mojok')\n(1990, 2015, 1989, 2005)\nBuku Bumi Manusia ditulis oleh Pram\nBuku Rosie ditulis oleh Tere Liye\nBuku The Alchemist ditulis oleh Paulo Coelho\nBuku Cinta Tak Pernah Tepat Waktu ditulis oleh Puthut EA\nBuku Bumi Manusia diterbitkan oleh Gramedia pada tahun 1990\nBuku Rosie diterbitkan oleh Republika pada tahun 2015\nBuku The Alchemist diterbitkan oleh Elex Media Computindo pada tahun 1989\nBuku Cinta Tak Pernah Tepat Waktu diterbitkan oleh Mojok pada tahun 2005\n"
     ]
    }
   ],
   "source": [
    "# 2. Data buku \n",
    "pengarang = ('Pram', 'Tere Liye', 'Paulo Coelho', 'Puthut EA')\n",
    "judul_buku = ('Bumi Manusia', 'Rosie', 'The Alchemist', 'Cinta Tak Pernah Tepat Waktu')\n",
    "penerbit = ('Gramedia', 'Republika', 'Elex Media Computindo', 'Mojok')\n",
    "tahun_terbit = (1990, 2015, 1989, 2005)\n",
    "\n",
    "print(pengarang)\n",
    "print(judul_buku)\n",
    "print(penerbit)\n",
    "print(tahun_terbit)\n",
    "\n",
    "# 3. Menampilkan data buku\n",
    "# a\n",
    "for i in (0,1,2,3):\n",
    "    print(\"Buku\",judul_buku[i],\"ditulis oleh\", pengarang[i])\n",
    "# b\n",
    "for q in (0,1,2,3):\n",
    "    print(\"Buku\",judul_buku[q],\"diterbitkan oleh\",penerbit[q],\"pada tahun\", tahun_terbit[q])\n",
    "\n",
    "# maaf bu, saya tidak memahami soalnya dengan benar"
   ]
  },
  {
   "cell_type": "code",
   "execution_count": null,
   "metadata": {},
   "outputs": [],
   "source": []
  }
 ]
}